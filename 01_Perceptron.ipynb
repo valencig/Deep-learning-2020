{
 "cells": [
  {
   "cell_type": "markdown",
   "metadata": {},
   "source": [
    "Parte 1: Datos"
   ]
  },
  {
   "cell_type": "code",
   "execution_count": 1,
   "metadata": {},
   "outputs": [],
   "source": [
    "# Imports\n",
    "import numpy as np\n",
    "import matplotlib.pyplot as plt"
   ]
  },
  {
   "cell_type": "code",
   "execution_count": 2,
   "metadata": {},
   "outputs": [
    {
     "name": "stdout",
     "output_type": "stream",
     "text": [
      "Data: (150, 4)\n",
      "[[5.1 3.5 1.4 0.2]\n",
      " [4.9 3.  1.4 0.2]\n",
      " [4.7 3.2 1.3 0.2]\n",
      " [4.6 3.1 1.5 0.2]\n",
      " [5.  3.6 1.4 0.2]\n",
      " [5.4 3.9 1.7 0.4]\n",
      " [4.6 3.4 1.4 0.3]\n",
      " [5.  3.4 1.5 0.2]\n",
      " [4.4 2.9 1.4 0.2]\n",
      " [4.9 3.1 1.5 0.1]]\n",
      "Labels (150,)\n",
      "[0 0 0 0 0 0 0 0 0 0 0 0 0 0 0 0 0 0 0 0 0 0 0 0 0 0 0 0 0 0 0 0 0 0 0 0 0\n",
      " 0 0 0 0 0 0 0 0 0 0 0 0 0 1 1 1 1 1 1 1 1 1 1 1 1 1 1 1 1 1 1 1 1 1 1 1 1\n",
      " 1 1 1 1 1 1 1 1 1 1 1 1 1 1 1 1 1 1 1 1 1 1 1 1 1 1 2 2 2 2 2 2 2 2 2 2 2\n",
      " 2 2 2 2 2 2 2 2 2 2 2 2 2 2 2 2 2 2 2 2 2 2 2 2 2 2 2 2 2 2 2 2 2 2 2 2 2\n",
      " 2 2]\n"
     ]
    }
   ],
   "source": [
    "# Load data\n",
    "from sklearn.datasets import load_iris\n",
    "iris = load_iris()\n",
    "X = iris.data\n",
    "Y = iris.target\n",
    "\n",
    "print(\"Data:\", X.shape)\n",
    "print(X[:10])\n",
    "print(\"Labels\", Y.shape)\n",
    "print(Y)"
   ]
  },
  {
   "cell_type": "code",
   "execution_count": 3,
   "metadata": {},
   "outputs": [
    {
     "data": {
      "text/plain": [
       "array(['setosa', 'versicolor', 'virginica'], dtype='<U10')"
      ]
     },
     "execution_count": 3,
     "metadata": {},
     "output_type": "execute_result"
    }
   ],
   "source": [
    "# More data info\n",
    "#iris.DESCR\n",
    "iris.target_names"
   ]
  },
  {
   "cell_type": "code",
   "execution_count": 4,
   "metadata": {},
   "outputs": [
    {
     "name": "stdout",
     "output_type": "stream",
     "text": [
      "Data: (100, 2)\n",
      "[[5.1 3.5]\n",
      " [4.9 3. ]\n",
      " [4.7 3.2]\n",
      " [4.6 3.1]\n",
      " [5.  3.6]\n",
      " [5.4 3.9]\n",
      " [4.6 3.4]\n",
      " [5.  3.4]\n",
      " [4.4 2.9]\n",
      " [4.9 3.1]]\n",
      "Labels (100,)\n",
      "[0 0 0 0 0 0 0 0 0 0 0 0 0 0 0 0 0 0 0 0 0 0 0 0 0 0 0 0 0 0 0 0 0 0 0 0 0\n",
      " 0 0 0 0 0 0 0 0 0 0 0 0 0 1 1 1 1 1 1 1 1 1 1 1 1 1 1 1 1 1 1 1 1 1 1 1 1\n",
      " 1 1 1 1 1 1 1 1 1 1 1 1 1 1 1 1 1 1 1 1 1 1 1 1 1 1]\n"
     ]
    }
   ],
   "source": [
    "# Let's keep two classes only, and two variables\n",
    "X = X[:100, :2]\n",
    "Y = Y[:100]\n",
    "\n",
    "print(\"Data:\", X.shape)\n",
    "print(X[:10])\n",
    "print(\"Labels\", Y.shape)\n",
    "print(Y)"
   ]
  },
  {
   "cell_type": "code",
   "execution_count": 5,
   "metadata": {},
   "outputs": [
    {
     "data": {
      "image/png": "[encoded data removed]",
      "text/plain": [
       "<Figure size 432x288 with 1 Axes>"
      ]
     },
     "metadata": {
      "needs_background": "light"
     },
     "output_type": "display_data"
    }
   ],
   "source": [
    "# Plot it\n",
    "plt.scatter(X[Y==0, 0], X[Y==0, 1], c='b', label='setosa')\n",
    "plt.scatter(X[Y==1, 0], X[Y==1, 1], c='r', label='versicolor')\n",
    "plt.legend()\n",
    "plt.grid(True)\n",
    "plt.xlabel('petal length')\n",
    "plt.ylabel('petal width')\n",
    "plt.show()"
   ]
  },
  {
   "cell_type": "code",
   "execution_count": 6,
   "metadata": {},
   "outputs": [],
   "source": [
    "# == Q1: ==\n",
    "# Diseña alguna manera de visualizar y diferenciar las 4 dimensiones de los datos usando una gráfica de sólo 2-D\n",
    "# Muestra tu solución:\n",
    "\n",
    "# CODE\n",
    "plt.show()"
   ]
  },
  {
   "cell_type": "code",
   "execution_count": 7,
   "metadata": {},
   "outputs": [
    {
     "name": "stdout",
     "output_type": "stream",
     "text": [
      "(80, 2)\n",
      "(20, 2)\n",
      "(80,)\n",
      "(20,)\n"
     ]
    }
   ],
   "source": [
    "# Split data into training+validation and test sets\n",
    "from sklearn.model_selection import train_test_split\n",
    "x_train, x_test, y_train, y_test = train_test_split(X, Y, test_size=0.2)\n",
    "\n",
    "print(x_train.shape)\n",
    "print(x_test.shape)\n",
    "print(y_train.shape)\n",
    "print(y_test.shape)"
   ]
  },
  {
   "cell_type": "markdown",
   "metadata": {},
   "source": [
    "Parte 2: Perceptron"
   ]
  },
  {
   "cell_type": "code",
   "execution_count": 8,
   "metadata": {},
   "outputs": [],
   "source": [
    "# More imports to compute accuracy\n",
    "from sklearn.metrics import accuracy_score"
   ]
  },
  {
   "cell_type": "code",
   "execution_count": 12,
   "metadata": {},
   "outputs": [],
   "source": [
    "# Define class linear (step) perceptron\n",
    "class LPerceptron:\n",
    "    \n",
    "    #constructor\n",
    "    def __init__ (self):\n",
    "        self.w = None\n",
    "        self.b = None\n",
    "    \n",
    "    #activation function  \n",
    "    def activation(self, x):\n",
    "        return 1 if (np.dot(self.w, x) >= self.b) else 0\n",
    "    \n",
    "    #predict on data\n",
    "    def predict(self, X):\n",
    "        Y = []\n",
    "        for x in X:\n",
    "            result = self.activation(x)\n",
    "            Y.append(result)\n",
    "        return np.array(Y)\n",
    "\n",
    "    #train\n",
    "    def fit(self, X, Y, n_epochs=1, lr=1, val_split=0.1):\n",
    "        x_train, x_val, y_train, y_val = train_test_split(X, Y, test_size=val_split) #split train into train and val\n",
    "        \n",
    "        self.w = np.random.rand(X.shape[1])\n",
    "        self.b = 0.0\n",
    "        \n",
    "        accuracy = np.zeros((2,))\n",
    "        accuracy[0] = accuracy_score(y_train, self.predict(x_train))\n",
    "        accuracy[1] = accuracy_score(y_val, self.predict(x_val))\n",
    "        print(f\"Epoch: {0:3d} -- acc: {accuracy[0]:6.4f}, acc_val: {accuracy[1]:6.4f}\")\n",
    "        \n",
    "        accuracy = np.zeros((n_epochs, 2))\n",
    "        for epoch in range(n_epochs): #loop through epochs\n",
    "            for x, y in zip(x_train, y_train):  #loop through samples\n",
    "                y_pred = self.activation(x)\n",
    "                err = y - y_pred\n",
    "                self.w = self.w + lr * err * x  #LA\n",
    "                self.b = self.b + lr * err      #LB\n",
    "            accuracy[epoch, 0] = accuracy_score(y_train, self.predict(x_train))\n",
    "            accuracy[epoch, 1] = accuracy_score(y_val, self.predict(x_val))\n",
    "            print(f\"Epoch: {epoch+1:3d} -- acc: {accuracy[epoch, 0]:6.4f}, acc_val: {accuracy[epoch, 1]:6.4f}\")\n",
    "            \n",
    "        return accuracy"
   ]
  },
  {
   "cell_type": "code",
   "execution_count": 10,
   "metadata": {},
   "outputs": [],
   "source": [
    "# == Q2: ==\n",
    "# Explica qué sucede en las líneas comentadas como #LA y #LB.\n",
    "# ¿Qué significa cada térmido de las ecuaciones?\n",
    "# ¿Por qué contienen el térmido de la variable \"err\"?\n",
    "# ¿Por qué contienen como un térmido la variable de entrada \"x\"?"
   ]
  },
  {
   "cell_type": "code",
   "execution_count": 11,
   "metadata": {},
   "outputs": [
    {
     "name": "stdout",
     "output_type": "stream",
     "text": [
      "Epoch:   0 -- acc: 0.5139, acc_val: 0.5000\n",
      "Epoch:   1 -- acc: 0.9861, acc_val: 0.8750\n",
      "Epoch:   2 -- acc: 0.9583, acc_val: 0.8750\n",
      "Epoch:   3 -- acc: 0.7778, acc_val: 0.8750\n",
      "Epoch:   4 -- acc: 1.0000, acc_val: 0.8750\n",
      "Epoch:   5 -- acc: 1.0000, acc_val: 0.8750\n",
      "Epoch:   6 -- acc: 1.0000, acc_val: 0.8750\n",
      "Epoch:   7 -- acc: 1.0000, acc_val: 0.8750\n",
      "Epoch:   8 -- acc: 1.0000, acc_val: 0.8750\n",
      "Epoch:   9 -- acc: 1.0000, acc_val: 0.8750\n",
      "Epoch:  10 -- acc: 1.0000, acc_val: 0.8750\n",
      "Epoch:  11 -- acc: 1.0000, acc_val: 0.8750\n",
      "Epoch:  12 -- acc: 1.0000, acc_val: 0.8750\n",
      "Epoch:  13 -- acc: 1.0000, acc_val: 0.8750\n",
      "Epoch:  14 -- acc: 1.0000, acc_val: 0.8750\n",
      "Epoch:  15 -- acc: 1.0000, acc_val: 0.8750\n",
      "Epoch:  16 -- acc: 1.0000, acc_val: 0.8750\n",
      "Epoch:  17 -- acc: 1.0000, acc_val: 0.8750\n",
      "Epoch:  18 -- acc: 1.0000, acc_val: 0.8750\n",
      "Epoch:  19 -- acc: 1.0000, acc_val: 0.8750\n",
      "Epoch:  20 -- acc: 1.0000, acc_val: 0.8750\n",
      "Epoch:  21 -- acc: 1.0000, acc_val: 0.8750\n",
      "Epoch:  22 -- acc: 1.0000, acc_val: 0.8750\n",
      "Epoch:  23 -- acc: 1.0000, acc_val: 0.8750\n",
      "Epoch:  24 -- acc: 1.0000, acc_val: 0.8750\n",
      "Epoch:  25 -- acc: 1.0000, acc_val: 0.8750\n",
      "Epoch:  26 -- acc: 1.0000, acc_val: 0.8750\n",
      "Epoch:  27 -- acc: 1.0000, acc_val: 0.8750\n",
      "Epoch:  28 -- acc: 1.0000, acc_val: 0.8750\n",
      "Epoch:  29 -- acc: 1.0000, acc_val: 0.8750\n",
      "Epoch:  30 -- acc: 1.0000, acc_val: 0.8750\n",
      "Epoch:  31 -- acc: 1.0000, acc_val: 0.8750\n",
      "Epoch:  32 -- acc: 1.0000, acc_val: 0.8750\n",
      "Epoch:  33 -- acc: 1.0000, acc_val: 0.8750\n",
      "Epoch:  34 -- acc: 1.0000, acc_val: 0.8750\n",
      "Epoch:  35 -- acc: 1.0000, acc_val: 0.8750\n",
      "Epoch:  36 -- acc: 1.0000, acc_val: 0.8750\n",
      "Epoch:  37 -- acc: 1.0000, acc_val: 0.8750\n",
      "Epoch:  38 -- acc: 1.0000, acc_val: 0.8750\n",
      "Epoch:  39 -- acc: 1.0000, acc_val: 0.8750\n",
      "Epoch:  40 -- acc: 1.0000, acc_val: 0.8750\n",
      "Epoch:  41 -- acc: 1.0000, acc_val: 0.8750\n",
      "Epoch:  42 -- acc: 1.0000, acc_val: 0.8750\n",
      "Epoch:  43 -- acc: 1.0000, acc_val: 0.8750\n",
      "Epoch:  44 -- acc: 1.0000, acc_val: 0.8750\n",
      "Epoch:  45 -- acc: 1.0000, acc_val: 0.8750\n",
      "Epoch:  46 -- acc: 1.0000, acc_val: 0.8750\n",
      "Epoch:  47 -- acc: 1.0000, acc_val: 0.8750\n",
      "Epoch:  48 -- acc: 1.0000, acc_val: 0.8750\n",
      "Epoch:  49 -- acc: 1.0000, acc_val: 0.8750\n",
      "Epoch:  50 -- acc: 1.0000, acc_val: 0.8750\n"
     ]
    }
   ],
   "source": [
    "# Create model and train it for 50 epochs\n",
    "perceptron = LPerceptron()\n",
    "acc_history = perceptron.fit(x_train, y_train, n_epochs=50, lr=0.3, val_split=0.1)"
   ]
  },
  {
   "cell_type": "code",
   "execution_count": 13,
   "metadata": {},
   "outputs": [
    {
     "name": "stdout",
     "output_type": "stream",
     "text": [
      "Test acc: 1.0\n"
     ]
    }
   ],
   "source": [
    "# Making predictions on test data\n",
    "y_test_hat = perceptron.predict(x_test)\n",
    "print(\"Test acc:\", accuracy_score(y_test_hat, y_test))"
   ]
  },
  {
   "cell_type": "code",
   "execution_count": 14,
   "metadata": {},
   "outputs": [
    {
     "name": "stdout",
     "output_type": "stream",
     "text": [
      "Weights: [ 3.85216473 -6.83878177]\n",
      "bias: -1.2\n"
     ]
    }
   ],
   "source": [
    "# Show the final values for the weights and bias\n",
    "print(\"Weights:\", perceptron.w)\n",
    "print(\"bias:\", perceptron.b)"
   ]
  },
  {
   "cell_type": "code",
   "execution_count": 15,
   "metadata": {},
   "outputs": [
    {
     "name": "stdout",
     "output_type": "stream",
     "text": [
      "Training:\t 0.9590 +- 0.0488\n",
      "Validation:\t 0.9637 +- 0.0645\n",
      "Test:\t\t 0.9720 +- 0.0420\n"
     ]
    }
   ],
   "source": [
    "# == Q3: ==\n",
    "# Corre el experimento anterior 100 veces (quizás quieras comentar las impresiones parciales) y reporta\n",
    "# el promedio +- desviación estándar obtenido en la última época de cada corrida.\n",
    "# Debes reportar 3 promedios: para training, validation, y test sets\n",
    "# ¿Notas algún cambio significativo?\n",
    "ACC = np.zeros((100, 3))\n",
    "for ind in range(100):\n",
    "    perceptron = LPerceptron()\n",
    "    acc_history = perceptron.fit(x_train, y_train, n_epochs=50, lr=0.3, val_split=0.1)\n",
    "    ACC[ind, 0], ACC[ind, 1] = acc_history[-1]\n",
    "    y_test_hat = perceptron.predict(x_test)\n",
    "    ACC[ind, 2] = accuracy_score(y_test_hat, y_test)\n",
    "    \n",
    "print(f\"Training:\\t {ACC[:, 0].mean():6.4f} +- {ACC[:, 0].std():6.4f}\")\n",
    "print(f\"Validation:\\t {ACC[:, 1].mean():6.4f} +- {ACC[:, 1].std():6.4f}\")\n",
    "print(f\"Test:\\t\\t {ACC[:, 2].mean():6.4f} +- {ACC[:, 2].std():6.4f}\")"
   ]
  },
  {
   "cell_type": "code",
   "execution_count": 16,
   "metadata": {},
   "outputs": [
    {
     "name": "stdout",
     "output_type": "stream",
     "text": [
      "Training:\t 1.0000 +- 0.0000\n",
      "Validation:\t 0.9988 +- 0.0124\n",
      "Test:\t\t 0.9975 +- 0.0130\n"
     ]
    }
   ],
   "source": [
    "# == Q4: ==\n",
    "# Repite el experimento anterior pero ahora usando las 4 variables de los datos (en vez de sólo 2)\n",
    "# ¿Hubo algún cambio significativo en los resultados obtenidos?\n",
    "# ¿Por qué crees que fue esto?\n",
    "# ¿Por qué si modificamos los datos, seguimos usando las mismas etiquetas: Y = iris.target[:100]?\n",
    "\n",
    "X = iris.data[:100]\n",
    "Y = iris.target[:100]\n",
    "x_train, x_test, y_train, y_test = train_test_split(X, Y, test_size=0.2)\n",
    "\n",
    "ACC = np.zeros((100, 3))\n",
    "for ind in range(100):\n",
    "    perceptron = LPerceptron()\n",
    "    acc_history = perceptron.fit(x_train, y_train, n_epochs=50, lr=0.3, val_split=0.1)\n",
    "    ACC[ind, 0], ACC[ind, 1] = acc_history[-1]\n",
    "    y_test_hat = perceptron.predict(x_test)\n",
    "    ACC[ind, 2] = accuracy_score(y_test_hat, y_test)\n",
    "    \n",
    "print(f\"Training:\\t {ACC[:, 0].mean():6.4f} +- {ACC[:, 0].std():6.4f}\")\n",
    "print(f\"Validation:\\t {ACC[:, 1].mean():6.4f} +- {ACC[:, 1].std():6.4f}\")\n",
    "print(f\"Test:\\t\\t {ACC[:, 2].mean():6.4f} +- {ACC[:, 2].std():6.4f}\")"
   ]
  },
  {
   "cell_type": "code",
   "execution_count": 17,
   "metadata": {},
   "outputs": [
    {
     "name": "stdout",
     "output_type": "stream",
     "text": [
      "Training:\t 0.8533 +- 0.0942\n",
      "Validation:\t 0.8500 +- 0.1571\n",
      "Test:\t\t 0.9335 +- 0.1192\n"
     ]
    }
   ],
   "source": [
    "# == Q5: ==\n",
    "# Repite el experimento anterior pero ahora usando las 4 variables de las clases versicolor (1) y virginica (2)\n",
    "# ¿Hubo algún cambio significativo en los resultados obtenidos?\n",
    "# ¿Por qué crees que fue esto?\n",
    "# ¿Por qué si modificamos los datos, seguimos usando las mismas etiquetas: Y = iris.target[:100]?\n",
    "\n",
    "X = iris.data[50:]\n",
    "Y = iris.target[:100]\n",
    "x_train, x_test, y_train, y_test = train_test_split(X, Y, test_size=0.2)\n",
    "\n",
    "ACC = np.zeros((100, 3))\n",
    "for ind in range(100):\n",
    "    perceptron = LPerceptron()\n",
    "    acc_history = perceptron.fit(x_train, y_train, n_epochs=50, lr=0.3, val_split=0.1)\n",
    "    ACC[ind, 0], ACC[ind, 1] = acc_history[-1]\n",
    "    y_test_hat = perceptron.predict(x_test)\n",
    "    ACC[ind, 2] = accuracy_score(y_test_hat, y_test)\n",
    "    \n",
    "print(f\"Training:\\t {ACC[:, 0].mean():6.4f} +- {ACC[:, 0].std():6.4f}\")\n",
    "print(f\"Validation:\\t {ACC[:, 1].mean():6.4f} +- {ACC[:, 1].std():6.4f}\")\n",
    "print(f\"Test:\\t\\t {ACC[:, 2].mean():6.4f} +- {ACC[:, 2].std():6.4f}\")"
   ]
  },
  {
   "cell_type": "markdown",
   "metadata": {},
   "source": [
    "Part 3: Non-linear (sigmoid) Perceptron"
   ]
  },
  {
   "cell_type": "code",
   "execution_count": 18,
   "metadata": {},
   "outputs": [],
   "source": [
    "# == Q6: ==\n",
    "# Completa el siguiente código del perceptron no lineal (sigmoide)"
   ]
  },
  {
   "cell_type": "code",
   "execution_count": 19,
   "metadata": {},
   "outputs": [],
   "source": [
    "# Define class perceptron\n",
    "class Perceptron:\n",
    "    \n",
    "    #constructor\n",
    "    def __init__ (self):\n",
    "        self.W = None\n",
    "        self.b = None\n",
    "    \n",
    "    #total neuron input\n",
    "    def lin_sum(self, X):\n",
    "        return np.dot(self.W, X) + self.b\n",
    "    \n",
    "    #activation (sigmoid)\n",
    "    def sigmoid(self, s):\n",
    "        return 1.0 / (1.0 + np.exp(-s))\n",
    "    \n",
    "    #derivative of activation (sigmoid)\n",
    "    def d_sigmoid(self, s):\n",
    "        return self.sigmoid(s) * (1.0 - self.sigmoid(s))\n",
    "    \n",
    "    #predict on data\n",
    "    def predict(self, X):\n",
    "        Y = []\n",
    "        for x in X:\n",
    "            s = self.lin_sum(x)\n",
    "            y = self.sigmoid(s)\n",
    "            Y.append(y)\n",
    "        return np.array(Y)\n",
    "\n",
    "    #train\n",
    "    def fit(self, X, Y, n_epochs=1, lr=0.1, val_split=0.1):\n",
    "        x_train, x_val, y_train, y_val = train_test_split(X, Y, test_size=val_split)\n",
    "        \n",
    "        self.W = np.random.rand(X.shape[1])\n",
    "        self.b = 0.0\n",
    "        \n",
    "        accuracy = np.zeros((2,))\n",
    "        accuracy[0] = accuracy_score(y_train, self.predict(x_train).round())\n",
    "        accuracy[1] = accuracy_score(y_val, self.predict(x_val).round())\n",
    "        #print(f\"Epoch: {0:3d} -- acc: {accuracy[0]:6.4f}, acc_val: {accuracy[1]:6.4f}\")\n",
    "        \n",
    "        accuracy = np.zeros((n_epochs, 2))\n",
    "        for epoch in range(n_epochs): #loop through epochs\n",
    "            for x, y in zip(x_train, y_train):  #loop through samples\n",
    "                # Forward pass\n",
    "                s = # -- CODIGO --\n",
    "                y_pred = # -- CODIGO --\n",
    "                # Backward pass\n",
    "                err = y - y_pred\n",
    "                self.W = # -- CODIGO --\n",
    "                self.b = # -- CODIGO --\n",
    "            accuracy[epoch, 0] = accuracy_score(y_train, self.predict(x_train).round())\n",
    "            accuracy[epoch, 1] = accuracy_score(y_val, self.predict(x_val).round())\n",
    "            #print(f\"Epoch: {epoch+1:3d} -- acc: {accuracy[epoch, 0]:6.4f}, acc_val: {accuracy[epoch, 1]:6.4f}\")\n",
    "            \n",
    "        return accuracy"
   ]
  },
  {
   "cell_type": "code",
   "execution_count": 23,
   "metadata": {},
   "outputs": [
    {
     "name": "stdout",
     "output_type": "stream",
     "text": [
      "Training:\t 0.8924 +- 0.1190\n",
      "Validation:\t 0.8788 +- 0.1672\n",
      "Test:\t\t 0.8700 +- 0.1353\n"
     ]
    }
   ],
   "source": [
    "# == Q7: ==\n",
    "# Repite el experimento anterior usando las 4 variables de las clases versicolor (1) y virginica (2),\n",
    "# pero ahora usando el Perceptron logístico\n",
    "# ¿Hubo algún cambio significativo en los resultados obtenidos?\n",
    "# ¿Por qué crees que fue esto?\n",
    "\n",
    "X = iris.data[50:]\n",
    "Y = iris.target[:100]\n",
    "x_train, x_test, y_train, y_test = train_test_split(X, Y, test_size=0.2)\n",
    "\n",
    "ACC = np.zeros((100, 3))\n",
    "for ind in range(100):\n",
    "    perceptron = Perceptron()\n",
    "    acc_history = perceptron.fit(x_train, y_train, n_epochs=50, lr=0.3, val_split=0.1)\n",
    "    ACC[ind, 0], ACC[ind, 1] = acc_history[-1]\n",
    "    y_test_hat = perceptron.predict(x_test)\n",
    "    ACC[ind, 2] = accuracy_score(y_test, y_test_hat.round())\n",
    "    \n",
    "print(f\"Training:\\t {ACC[:, 0].mean():6.4f} +- {ACC[:, 0].std():6.4f}\")\n",
    "print(f\"Validation:\\t {ACC[:, 1].mean():6.4f} +- {ACC[:, 1].std():6.4f}\")\n",
    "print(f\"Test:\\t\\t {ACC[:, 2].mean():6.4f} +- {ACC[:, 2].std():6.4f}\")"
   ]
  },
  {
   "cell_type": "code",
   "execution_count": 33,
   "metadata": {},
   "outputs": [],
   "source": [
    "# == Q8: ==\n",
    "# Escribe tus conclusiones sobre este ejercicio."
   ]
  },
  {
   "cell_type": "code",
   "execution_count": null,
   "metadata": {},
   "outputs": [],
   "source": []
  }
 ],
 "metadata": {
  "kernelspec": {
   "display_name": "Python 3",
   "language": "python",
   "name": "python3"
  },
  "language_info": {
   "codemirror_mode": {
    "name": "ipython",
    "version": 3
   },
   "file_extension": ".py",
   "mimetype": "text/x-python",
   "name": "python",
   "nbconvert_exporter": "python",
   "pygments_lexer": "ipython3",
   "version": "3.7.6"
  }
 },
 "nbformat": 4,
 "nbformat_minor": 2
}
