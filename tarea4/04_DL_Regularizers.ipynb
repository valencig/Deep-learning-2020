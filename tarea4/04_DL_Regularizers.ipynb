{
  "nbformat": 4,
  "nbformat_minor": 0,
  "metadata": {
    "colab": {
      "name": "04_DL_Regularizers.ipynb",
      "provenance": [],
      "collapsed_sections": []
    },
    "kernelspec": {
      "name": "python3",
      "display_name": "Python 3"
    },
    "accelerator": "GPU"
  },
  "cells": [
    {
      "cell_type": "markdown",
      "metadata": {
        "id": "7AnH6VY-W09n",
        "colab_type": "text"
      },
      "source": [
        "# Part 1: Load MNIST data set and format it"
      ]
    },
    {
      "cell_type": "code",
      "metadata": {
        "id": "R7BOD99kHvAZ",
        "colab_type": "code",
        "colab": {}
      },
      "source": [
        "# Usaremos la base de datos MNIST\n",
        "# Esta base de datos contiene imágenes binarias de dígitos escritos a mano.\n",
        "# Usaremos las imágenes extendidas en forma de vector como datos 'x' y sus\n",
        "# respectivas etiquetas (enteros) como valores de salida 'y'.\n",
        "\n",
        "# El objetivo es diseñar redes neuronales que, con ayuda de regularizadores,\n",
        "# sean capaces de obtener buen desempeño de clasificación multi-clase, tanto\n",
        "# en los datos de entrenamiento como en los de validación y prueba."
      ],
      "execution_count": 0,
      "outputs": []
    },
    {
      "cell_type": "code",
      "metadata": {
        "id": "auaqKUAuFRwJ",
        "colab_type": "code",
        "outputId": "07bbd568-3255-4b62-d554-d0e5742ada5a",
        "colab": {
          "base_uri": "https://localhost:8080/",
          "height": 65
        }
      },
      "source": [
        "import numpy as np\n",
        "import matplotlib.pyplot as plt\n",
        "import tensorflow.keras as keras"
      ],
      "execution_count": 2,
      "outputs": [
        {
          "output_type": "display_data",
          "data": {
            "text/html": [
              "<p style=\"color: red;\">\n",
              "The default version of TensorFlow in Colab will soon switch to TensorFlow 2.x.<br>\n",
              "We recommend you <a href=\"https://www.tensorflow.org/guide/migrate\" target=\"_blank\">upgrade</a> now \n",
              "or ensure your notebook will continue to use TensorFlow 1.x via the <code>%tensorflow_version 1.x</code> magic:\n",
              "<a href=\"https://colab.research.google.com/notebooks/tensorflow_version.ipynb\" target=\"_blank\">more info</a>.</p>\n"
            ],
            "text/plain": [
              "<IPython.core.display.HTML object>"
            ]
          },
          "metadata": {
            "tags": []
          }
        }
      ]
    },
    {
      "cell_type": "code",
      "metadata": {
        "id": "G1ZDQJr-VH5g",
        "colab_type": "code",
        "outputId": "15e9928b-6066-4955-9175-e1702f2500bf",
        "colab": {
          "base_uri": "https://localhost:8080/",
          "height": 127
        }
      },
      "source": [
        "# Load data set\n",
        "from keras.datasets import mnist\n",
        "(x_train, y_train), (x_test, y_test) = mnist.load_data()\n",
        "\n",
        "print(\"Shapes\")\n",
        "print(\"x_train:\", x_train.shape)\n",
        "print(\"x_test:\", x_test.shape)\n",
        "print(\"y_train:\", y_train.shape)\n",
        "print(\"y_test:\", y_test.shape)"
      ],
      "execution_count": 3,
      "outputs": [
        {
          "output_type": "stream",
          "text": [
            "Using TensorFlow backend.\n"
          ],
          "name": "stderr"
        },
        {
          "output_type": "stream",
          "text": [
            "Shapes\n",
            "x_train: (60000, 28, 28)\n",
            "x_test: (10000, 28, 28)\n",
            "y_train: (60000,)\n",
            "y_test: (10000,)\n"
          ],
          "name": "stdout"
        }
      ]
    },
    {
      "cell_type": "code",
      "metadata": {
        "id": "Yx01feuaYmwk",
        "colab_type": "code",
        "outputId": "e5ba8b7f-8eb2-4cbc-e37e-84cc45d93a29",
        "colab": {
          "base_uri": "https://localhost:8080/",
          "height": 303
        }
      },
      "source": [
        "# Visualize a few examples\n",
        "plt.figure(figsize=(15, 5))\n",
        "for ind in range(32):\n",
        "    plt.subplot(4, 8, ind+1)\n",
        "    plt.imshow(x_test[ind], cmap='gray')\n",
        "    plt.axis('off')\n",
        "plt.show()"
      ],
      "execution_count": 4,
      "outputs": [
        {
          "output_type": "display_data",
          "data": {
            "image/png": "[encoded data removed]",
            "text/plain": [
              "<Figure size 1080x360 with 32 Axes>"
            ]
          },
          "metadata": {
            "tags": []
          }
        }
      ]
    },
    {
      "cell_type": "code",
      "metadata": {
        "id": "dh4hhQ9XZHMM",
        "colab_type": "code",
        "outputId": "362c0369-68a7-4759-ca9e-dea70f34328c",
        "colab": {
          "base_uri": "https://localhost:8080/",
          "height": 72
        }
      },
      "source": [
        "# Put images into a vector format\n",
        "x_train = np.reshape(x_train, (len(x_train), -1)).astype('float32') # tf requires float32 or float64\n",
        "x_test  = np.reshape(x_test,  (len(x_test),  -1)).astype('float32')\n",
        "\n",
        "print(\"X shapes\")\n",
        "print(\"x_train:\", x_train.shape)\n",
        "print(\"x_test:\", x_test.shape)"
      ],
      "execution_count": 5,
      "outputs": [
        {
          "output_type": "stream",
          "text": [
            "X shapes\n",
            "x_train: (60000, 784)\n",
            "x_test: (10000, 784)\n"
          ],
          "name": "stdout"
        }
      ]
    },
    {
      "cell_type": "code",
      "metadata": {
        "id": "yq1cv1QdV119",
        "colab_type": "code",
        "outputId": "013d6694-0cd2-44e1-ce84-b15547141c97",
        "colab": {
          "base_uri": "https://localhost:8080/",
          "height": 72
        }
      },
      "source": [
        "# Put categorical data into one-hot encoding format\n",
        "from keras.utils import to_categorical\n",
        "y_train = to_categorical(y_train)\n",
        "y_test = to_categorical(y_test)\n",
        "\n",
        "print(\"Y shapes\")\n",
        "print(\"y_train:\", y_train.shape)\n",
        "print(\"y_test:\", y_test.shape)"
      ],
      "execution_count": 6,
      "outputs": [
        {
          "output_type": "stream",
          "text": [
            "Y shapes\n",
            "y_train: (60000, 10)\n",
            "y_test: (10000, 10)\n"
          ],
          "name": "stdout"
        }
      ]
    },
    {
      "cell_type": "markdown",
      "metadata": {
        "id": "dreChfyNYqsB",
        "colab_type": "text"
      },
      "source": [
        "# Part 2: Create DNN model and train it"
      ]
    },
    {
      "cell_type": "code",
      "metadata": {
        "id": "JO90QIV_HZyX",
        "colab_type": "code",
        "colab": {}
      },
      "source": [
        "# tensorflow imports\n",
        "from keras.models import Sequential\n",
        "from keras.layers import InputLayer, Dense, Activation, BatchNormalization, Dropout\n",
        "from keras.regularizers import l1, l2"
      ],
      "execution_count": 0,
      "outputs": []
    },
    {
      "cell_type": "code",
      "metadata": {
        "id": "PGV0oiFJVZjU",
        "colab_type": "code",
        "colab": {}
      },
      "source": [
        "# == - ==\n",
        "# La celda siguiente contiene dos modelos de redes neuronales. Comenta uno y usa otro.\n",
        "# Evalua uno a la vez y reporta tus resultados.\n",
        "#\n",
        "# Nota que importamos layers tipo BatchNorm y Dropout, los cuales son usados en \n",
        "# distintas secciones del modelo.\n",
        "# También importamos regularizadores l1 y l2, los cuales son usados como parametros\n",
        "# de las capas.\n",
        "#\n",
        "# Nota también el uso del parametro \"mertics\" en la compilación del modelo.\n",
        "# Este parámetro es sólo informativo, pero no se usa para optimizar el modelo.\n",
        "# En el caso particular de este modelo, se indica la exactitud de la clasificación,\n",
        "# sin embargo la minimización del error se hace con la función de pérdida \"categorical_crossentropy\"\n",
        "# Puedes revisar más detalles en la documentación de Keras o tf.\n",
        "#\n",
        "# Q1: Según los resultados que hayas obtenido, ¿cuál de los dos modelos es preferible y por qué?\n",
        "# Q2: ¿Por qué usamos softmax en la salida de la red?\n",
        "# Q3: Ajusta el primer modelo (sin regularizadores) para obtener una pérdida de \"entrenamiento\"\n",
        "#     menor o igual a 0.08 y exactitud mayor o igual a 98%.\n",
        "#     Reporta el número de capas y sus tamaños.\n",
        "# Q4: Ahora usa esos mismos valores de hiperparámetros (número de capas y sus tamaños)\n",
        "#     en el segundo modelo, y ajusta la taza de dropout, y las alfas en los regularizadores l1 y l2\n",
        "#     para disminuir el error de generalización (validación).\n",
        "#     Reporta el modelo regularizado que te haya dado mejores resultados.\n",
        "# Q5: Partiendo del mejor modelo que hayas obtenido anteriormente, modifica\n",
        "#     el número de sus capas y tamaños para disminuir aún más los errores, tanto\n",
        "#     el de entrenamiento como el de validación.\n",
        "#     Reporta tu mejor modelo.\n",
        "# ======="
      ],
      "execution_count": 0,
      "outputs": []
    },
    {
      "cell_type": "code",
      "metadata": {
        "id": "ENX7lCg3Ido4",
        "colab_type": "code",
        "outputId": "3e2c3176-b0bc-4297-a224-eab225d426be",
        "colab": {
          "base_uri": "https://localhost:8080/",
          "height": 533
        }
      },
      "source": [
        "# Create a Deep Network\n",
        "DNN = Sequential()\n",
        "\n",
        "# -- Try 01 --\n",
        "#DNN.add(InputLayer(input_shape=x_train.shape[1:]))\n",
        "#DNN.add(Dense(4, activation='relu'))\n",
        "#DNN.add(Dense(2, activation='relu'))\n",
        "#DNN.add(Dense(1, activation='relu'))\n",
        "# -- ------ --\n",
        "\n",
        "# -- Try 02 --\n",
        "DNN.add(InputLayer(input_shape=x_train.shape[1:]))\n",
        "DNN.add(Dropout(rate=0.33))\n",
        "DNN.add(Dense(4))\n",
        "DNN.add(BatchNormalization())\n",
        "DNN.add(Activation('relu'))\n",
        "DNN.add(Dense(4, activation='relu', activity_regularizer=l1(l=3e-15)))\n",
        "DNN.add(Dense(4, activation='relu', activity_regularizer=l2(l=3e-15)))\n",
        "# -- ------ --\n",
        "\n",
        "DNN.add(Dense(units=y_train.shape[1], activation='softmax'))\n",
        "DNN.summary()"
      ],
      "execution_count": 24,
      "outputs": [
        {
          "output_type": "stream",
          "text": [
            "WARNING:tensorflow:From /usr/local/lib/python3.6/dist-packages/keras/backend/tensorflow_backend.py:148: The name tf.placeholder_with_default is deprecated. Please use tf.compat.v1.placeholder_with_default instead.\n",
            "\n",
            "WARNING:tensorflow:From /usr/local/lib/python3.6/dist-packages/keras/backend/tensorflow_backend.py:3733: calling dropout (from tensorflow.python.ops.nn_ops) with keep_prob is deprecated and will be removed in a future version.\n",
            "Instructions for updating:\n",
            "Please use `rate` instead of `keep_prob`. Rate should be set to `rate = 1 - keep_prob`.\n",
            "Model: \"sequential_5\"\n",
            "_________________________________________________________________\n",
            "Layer (type)                 Output Shape              Param #   \n",
            "=================================================================\n",
            "dropout_1 (Dropout)          (None, 784)               0         \n",
            "_________________________________________________________________\n",
            "dense_17 (Dense)             (None, 512)               401920    \n",
            "_________________________________________________________________\n",
            "batch_normalization_1 (Batch (None, 512)               2048      \n",
            "_________________________________________________________________\n",
            "activation_1 (Activation)    (None, 512)               0         \n",
            "_________________________________________________________________\n",
            "dense_18 (Dense)             (None, 512)               262656    \n",
            "_________________________________________________________________\n",
            "dense_19 (Dense)             (None, 512)               262656    \n",
            "_________________________________________________________________\n",
            "dense_20 (Dense)             (None, 10)                5130      \n",
            "=================================================================\n",
            "Total params: 934,410\n",
            "Trainable params: 933,386\n",
            "Non-trainable params: 1,024\n",
            "_________________________________________________________________\n"
          ],
          "name": "stdout"
        }
      ]
    },
    {
      "cell_type": "code",
      "metadata": {
        "id": "Y8TlQWPOVfxw",
        "colab_type": "code",
        "colab": {}
      },
      "source": [
        "# Define training parameters\n",
        "# Esta es la manera en que puedes modificar los optimizadores que uses.\n",
        "# Revisa la documentación de keras para más opciones.\n",
        "from keras.optimizers import SGD\n",
        "sgd = SGD(lr=0.01, momentum=0.6, decay=0.97, nesterov=True)\n",
        "DNN.compile(optimizer=sgd, loss='categorical_crossentropy', metrics=['accuracy'])\n",
        "# Nota que el optimizador es igualado a sgd y no a 'sgd' (no hay comillas).\n",
        "# Es decir, se igualó a una variable y no a una cadena de texto constante."
      ],
      "execution_count": 0,
      "outputs": []
    },
    {
      "cell_type": "code",
      "metadata": {
        "id": "cXaSP7HIVhTK",
        "colab_type": "code",
        "outputId": "ab34d1af-0078-435f-a5cd-ff57197efdb7",
        "colab": {
          "base_uri": "https://localhost:8080/",
          "height": 1000
        }
      },
      "source": [
        "# Train model\n",
        "history = DNN.fit(x=x_train, y=y_train, batch_size=64, epochs=50, verbose=1, validation_split=0.1, shuffle=True)"
      ],
      "execution_count": 29,
      "outputs": [
        {
          "output_type": "stream",
          "text": [
            "Train on 54000 samples, validate on 6000 samples\n",
            "Epoch 1/50\n",
            "54000/54000 [==============================] - 6s 111us/step - loss: 0.4094 - acc: 0.9256 - val_loss: 0.2134 - val_acc: 0.9648\n",
            "Epoch 2/50\n",
            "54000/54000 [==============================] - 5s 98us/step - loss: 0.2080 - acc: 0.9609 - val_loss: 0.1706 - val_acc: 0.9707\n",
            "Epoch 3/50\n",
            "54000/54000 [==============================] - 5s 94us/step - loss: 0.1650 - acc: 0.9691 - val_loss: 0.1488 - val_acc: 0.9755\n",
            "Epoch 4/50\n",
            "54000/54000 [==============================] - 5s 97us/step - loss: 0.1419 - acc: 0.9747 - val_loss: 0.1336 - val_acc: 0.9780\n",
            "Epoch 5/50\n",
            "54000/54000 [==============================] - 5s 95us/step - loss: 0.1277 - acc: 0.9766 - val_loss: 0.1196 - val_acc: 0.9785\n",
            "Epoch 6/50\n",
            "54000/54000 [==============================] - 5s 96us/step - loss: 0.1145 - acc: 0.9793 - val_loss: 0.1118 - val_acc: 0.9805\n",
            "Epoch 7/50\n",
            "54000/54000 [==============================] - 5s 97us/step - loss: 0.1056 - acc: 0.9807 - val_loss: 0.1119 - val_acc: 0.9818\n",
            "Epoch 8/50\n",
            "54000/54000 [==============================] - 5s 99us/step - loss: 0.0949 - acc: 0.9828 - val_loss: 0.1261 - val_acc: 0.9765\n",
            "Epoch 9/50\n",
            "54000/54000 [==============================] - 5s 99us/step - loss: 0.0902 - acc: 0.9842 - val_loss: 0.1117 - val_acc: 0.9807\n",
            "Epoch 10/50\n",
            "54000/54000 [==============================] - 5s 95us/step - loss: 0.0855 - acc: 0.9849 - val_loss: 0.1088 - val_acc: 0.9808\n",
            "Epoch 11/50\n",
            "54000/54000 [==============================] - 5s 96us/step - loss: 0.0822 - acc: 0.9855 - val_loss: 0.1123 - val_acc: 0.9808\n",
            "Epoch 12/50\n",
            "54000/54000 [==============================] - 5s 97us/step - loss: 0.0740 - acc: 0.9871 - val_loss: 0.1088 - val_acc: 0.9783\n",
            "Epoch 13/50\n",
            "54000/54000 [==============================] - 5s 96us/step - loss: 0.0701 - acc: 0.9883 - val_loss: 0.1068 - val_acc: 0.9800\n",
            "Epoch 14/50\n",
            "54000/54000 [==============================] - 5s 97us/step - loss: 0.0723 - acc: 0.9866 - val_loss: 0.0914 - val_acc: 0.9852\n",
            "Epoch 15/50\n",
            "54000/54000 [==============================] - 5s 96us/step - loss: 0.0678 - acc: 0.9877 - val_loss: 0.1067 - val_acc: 0.9813\n",
            "Epoch 16/50\n",
            "54000/54000 [==============================] - 5s 93us/step - loss: 0.0662 - acc: 0.9890 - val_loss: 0.0974 - val_acc: 0.9813\n",
            "Epoch 17/50\n",
            "54000/54000 [==============================] - 5s 95us/step - loss: 0.0627 - acc: 0.9894 - val_loss: 0.0938 - val_acc: 0.9818\n",
            "Epoch 18/50\n",
            "54000/54000 [==============================] - 5s 94us/step - loss: 0.0612 - acc: 0.9898 - val_loss: 0.0915 - val_acc: 0.9847\n",
            "Epoch 19/50\n",
            "54000/54000 [==============================] - 5s 95us/step - loss: 0.0591 - acc: 0.9899 - val_loss: 0.0991 - val_acc: 0.9813\n",
            "Epoch 20/50\n",
            "54000/54000 [==============================] - 5s 100us/step - loss: 0.0573 - acc: 0.9907 - val_loss: 0.0902 - val_acc: 0.9833\n",
            "Epoch 21/50\n",
            "54000/54000 [==============================] - 5s 98us/step - loss: 0.0567 - acc: 0.9903 - val_loss: 0.0901 - val_acc: 0.9855\n",
            "Epoch 22/50\n",
            "54000/54000 [==============================] - 5s 96us/step - loss: 0.0546 - acc: 0.9903 - val_loss: 0.0831 - val_acc: 0.9832\n",
            "Epoch 23/50\n",
            "54000/54000 [==============================] - 5s 95us/step - loss: 0.0559 - acc: 0.9900 - val_loss: 0.0884 - val_acc: 0.9835\n",
            "Epoch 24/50\n",
            "54000/54000 [==============================] - 5s 96us/step - loss: 0.0521 - acc: 0.9911 - val_loss: 0.0944 - val_acc: 0.9827\n",
            "Epoch 25/50\n",
            "54000/54000 [==============================] - 5s 96us/step - loss: 0.0509 - acc: 0.9914 - val_loss: 0.0894 - val_acc: 0.9852\n",
            "Epoch 26/50\n",
            "54000/54000 [==============================] - 5s 95us/step - loss: 0.0530 - acc: 0.9912 - val_loss: 0.0862 - val_acc: 0.9845\n",
            "Epoch 27/50\n",
            "54000/54000 [==============================] - 5s 97us/step - loss: 0.0495 - acc: 0.9918 - val_loss: 0.0963 - val_acc: 0.9808\n",
            "Epoch 28/50\n",
            "54000/54000 [==============================] - 5s 97us/step - loss: 0.0491 - acc: 0.9922 - val_loss: 0.0926 - val_acc: 0.9827\n",
            "Epoch 29/50\n",
            "54000/54000 [==============================] - 5s 95us/step - loss: 0.0466 - acc: 0.9925 - val_loss: 0.0818 - val_acc: 0.9863\n",
            "Epoch 30/50\n",
            "54000/54000 [==============================] - 5s 96us/step - loss: 0.0480 - acc: 0.9921 - val_loss: 0.0871 - val_acc: 0.9850\n",
            "Epoch 31/50\n",
            "54000/54000 [==============================] - 5s 98us/step - loss: 0.0448 - acc: 0.9927 - val_loss: 0.0931 - val_acc: 0.9832\n",
            "Epoch 32/50\n",
            "54000/54000 [==============================] - 5s 100us/step - loss: 0.0450 - acc: 0.9930 - val_loss: 0.0979 - val_acc: 0.9827\n",
            "Epoch 33/50\n",
            "54000/54000 [==============================] - 5s 97us/step - loss: 0.0463 - acc: 0.9924 - val_loss: 0.0875 - val_acc: 0.9852\n",
            "Epoch 34/50\n",
            "54000/54000 [==============================] - 5s 95us/step - loss: 0.0465 - acc: 0.9922 - val_loss: 0.0919 - val_acc: 0.9838\n",
            "Epoch 35/50\n",
            "54000/54000 [==============================] - 5s 96us/step - loss: 0.0465 - acc: 0.9923 - val_loss: 0.0869 - val_acc: 0.9848\n",
            "Epoch 36/50\n",
            "54000/54000 [==============================] - 5s 99us/step - loss: 0.0443 - acc: 0.9929 - val_loss: 0.0869 - val_acc: 0.9853\n",
            "Epoch 37/50\n",
            "54000/54000 [==============================] - 5s 96us/step - loss: 0.0438 - acc: 0.9932 - val_loss: 0.0913 - val_acc: 0.9847\n",
            "Epoch 38/50\n",
            "54000/54000 [==============================] - 5s 95us/step - loss: 0.0446 - acc: 0.9927 - val_loss: 0.0862 - val_acc: 0.9843\n",
            "Epoch 39/50\n",
            "54000/54000 [==============================] - 5s 97us/step - loss: 0.0413 - acc: 0.9933 - val_loss: 0.0811 - val_acc: 0.9845\n",
            "Epoch 40/50\n",
            "54000/54000 [==============================] - 5s 94us/step - loss: 0.0426 - acc: 0.9928 - val_loss: 0.0881 - val_acc: 0.9857\n",
            "Epoch 41/50\n",
            "54000/54000 [==============================] - 5s 95us/step - loss: 0.0422 - acc: 0.9935 - val_loss: 0.0827 - val_acc: 0.9860\n",
            "Epoch 42/50\n",
            "54000/54000 [==============================] - 5s 97us/step - loss: 0.0424 - acc: 0.9929 - val_loss: 0.0908 - val_acc: 0.9842\n",
            "Epoch 43/50\n",
            "54000/54000 [==============================] - 5s 99us/step - loss: 0.0388 - acc: 0.9941 - val_loss: 0.0947 - val_acc: 0.9833\n",
            "Epoch 44/50\n",
            "54000/54000 [==============================] - 5s 96us/step - loss: 0.0402 - acc: 0.9937 - val_loss: 0.0836 - val_acc: 0.9838\n",
            "Epoch 45/50\n",
            "54000/54000 [==============================] - 5s 96us/step - loss: 0.0409 - acc: 0.9931 - val_loss: 0.0904 - val_acc: 0.9850\n",
            "Epoch 46/50\n",
            "54000/54000 [==============================] - 5s 97us/step - loss: 0.0400 - acc: 0.9937 - val_loss: 0.0916 - val_acc: 0.9838\n",
            "Epoch 47/50\n",
            "54000/54000 [==============================] - 5s 95us/step - loss: 0.0393 - acc: 0.9937 - val_loss: 0.0824 - val_acc: 0.9845\n",
            "Epoch 48/50\n",
            "54000/54000 [==============================] - 5s 95us/step - loss: 0.0393 - acc: 0.9937 - val_loss: 0.0951 - val_acc: 0.9847\n",
            "Epoch 49/50\n",
            "54000/54000 [==============================] - 5s 95us/step - loss: 0.0388 - acc: 0.9939 - val_loss: 0.0924 - val_acc: 0.9832\n",
            "Epoch 50/50\n",
            "54000/54000 [==============================] - 5s 97us/step - loss: 0.0394 - acc: 0.9943 - val_loss: 0.0946 - val_acc: 0.9832\n"
          ],
          "name": "stdout"
        }
      ]
    },
    {
      "cell_type": "code",
      "metadata": {
        "id": "sun9_RyLYzMM",
        "colab_type": "code",
        "outputId": "d11e890f-fb4a-4acc-e206-9549e7b76232",
        "colab": {
          "base_uri": "https://localhost:8080/",
          "height": 334
        }
      },
      "source": [
        "# Plot loss\n",
        "plt.figure(figsize=(18, 5))\n",
        "\n",
        "plt.subplot(1, 2, 1)\n",
        "plt.plot(DNN.history.history['loss'], label='Training', linewidth=2)\n",
        "plt.plot(DNN.history.history['val_loss'], label='Validation', linewidth=2)\n",
        "plt.legend()\n",
        "plt.xlabel('Epoch')\n",
        "plt.ylabel('Loss')\n",
        "plt.grid(True)\n",
        "\n",
        "plt.subplot(1, 2, 2)\n",
        "plt.plot(DNN.history.history['acc'], label='Training', linewidth=2)\n",
        "plt.plot(DNN.history.history['val_acc'], label='Validation', linewidth=2)\n",
        "plt.legend()\n",
        "plt.xlabel('Epoch')\n",
        "plt.ylabel('Accuracy')\n",
        "plt.grid(True)\n",
        "\n",
        "plt.show()"
      ],
      "execution_count": 30,
      "outputs": [
        {
          "output_type": "display_data",
          "data": {
            "image/png": "[encoded data removed]",
            "text/plain": [
              "<Figure size 1296x360 with 2 Axes>"
            ]
          },
          "metadata": {
            "tags": []
          }
        }
      ]
    },
    {
      "cell_type": "code",
      "metadata": {
        "id": "jqWaiy_fb0-x",
        "colab_type": "code",
        "outputId": "1c825546-d43a-48d9-e3ae-42ae04ea4ff2",
        "colab": {
          "base_uri": "https://localhost:8080/",
          "height": 54
        }
      },
      "source": [
        "# Compute test loss\n",
        "test_loss, test_acc = DNN.evaluate(x=x_test, y=y_test, verbose=False)\n",
        "print(\"Test loss:\", test_loss)\n",
        "print(\"Test acc:\", test_acc)"
      ],
      "execution_count": 31,
      "outputs": [
        {
          "output_type": "stream",
          "text": [
            "Test loss: 0.09650682328119874\n",
            "Test acc: 0.9808\n"
          ],
          "name": "stdout"
        }
      ]
    },
    {
      "cell_type": "code",
      "metadata": {
        "id": "lQxF7hMCb8Cp",
        "colab_type": "code",
        "outputId": "358831d9-399e-49ca-e5eb-4ebc32251315",
        "colab": {
          "base_uri": "https://localhost:8080/",
          "height": 219
        }
      },
      "source": [
        "# Predict on test set\n",
        "y_test_hat = DNN.predict(x=x_test)\n",
        "print(y_test_hat.shape)\n",
        "print(y_test[:10])"
      ],
      "execution_count": 32,
      "outputs": [
        {
          "output_type": "stream",
          "text": [
            "(10000, 10)\n",
            "[[0. 0. 0. 0. 0. 0. 0. 1. 0. 0.]\n",
            " [0. 0. 1. 0. 0. 0. 0. 0. 0. 0.]\n",
            " [0. 1. 0. 0. 0. 0. 0. 0. 0. 0.]\n",
            " [1. 0. 0. 0. 0. 0. 0. 0. 0. 0.]\n",
            " [0. 0. 0. 0. 1. 0. 0. 0. 0. 0.]\n",
            " [0. 1. 0. 0. 0. 0. 0. 0. 0. 0.]\n",
            " [0. 0. 0. 0. 1. 0. 0. 0. 0. 0.]\n",
            " [0. 0. 0. 0. 0. 0. 0. 0. 0. 1.]\n",
            " [0. 0. 0. 0. 0. 1. 0. 0. 0. 0.]\n",
            " [0. 0. 0. 0. 0. 0. 0. 0. 0. 1.]]\n"
          ],
          "name": "stdout"
        }
      ]
    },
    {
      "cell_type": "code",
      "metadata": {
        "id": "3sxscpTRi4qh",
        "colab_type": "code",
        "colab": {}
      },
      "source": [
        "# Back to categorical labels\n",
        "y_test_hat_cat = np.argmax(y_test_hat, axis=1)\n",
        "y_test_cat = np.argmax(y_test, axis=1)"
      ],
      "execution_count": 0,
      "outputs": []
    },
    {
      "cell_type": "code",
      "metadata": {
        "id": "tfAf4cIqcGyQ",
        "colab_type": "code",
        "outputId": "ac96a22d-93a1-4d4a-d35e-d2ea516dc70a",
        "colab": {
          "base_uri": "https://localhost:8080/",
          "height": 363
        }
      },
      "source": [
        "# Confussion Matrix\n",
        "from sklearn.metrics import confusion_matrix\n",
        "Conf_Mat = confusion_matrix(y_test_cat, y_test_hat_cat)\n",
        "plt.figure(figsize=(6, 6))\n",
        "plt.imshow(Conf_Mat, cmap='jet')\n",
        "plt.grid()\n",
        "plt.colorbar()\n",
        "plt.show()"
      ],
      "execution_count": 34,
      "outputs": [
        {
          "output_type": "display_data",
          "data": {
            "image/png": "[encoded data removed]",
            "text/plain": [
              "<Figure size 432x432 with 2 Axes>"
            ]
          },
          "metadata": {
            "tags": []
          }
        }
      ]
    },
    {
      "cell_type": "code",
      "metadata": {
        "id": "euURHYHPQ9B3",
        "colab_type": "code",
        "colab": {}
      },
      "source": [
        ""
      ],
      "execution_count": 0,
      "outputs": []
    }
  ]
}