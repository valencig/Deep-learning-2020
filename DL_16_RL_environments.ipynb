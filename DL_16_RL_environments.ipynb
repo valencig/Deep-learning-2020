{
 "cells": [
  {
   "cell_type": "code",
   "execution_count": 8,
   "metadata": {},
   "outputs": [],
   "source": [
    "import numpy as np\n",
    "import gym\n",
    "import matplotlib.pyplot as plt\n",
    "from itertools import count\n",
    "from tensorflow.keras.models import load_model"
   ]
  },
  {
   "cell_type": "code",
   "execution_count": 56,
   "metadata": {},
   "outputs": [],
   "source": [
    "net_policy = load_model(\"net_policy.h5\")"
   ]
  },
  {
   "cell_type": "code",
   "execution_count": 57,
   "metadata": {},
   "outputs": [
    {
     "name": "stdout",
     "output_type": "stream",
     "text": [
      "Game ended! \n",
      "Total reward: -200.0 \n",
      "In 200 time steps.\n"
     ]
    }
   ],
   "source": [
    "# Once trained, put it to play\n",
    "env = gym.make('MountainCar-v0')\n",
    "state = env.reset()\n",
    "\n",
    "tot_reward = 0\n",
    "done = False\n",
    "for t in count():\n",
    "    env.render() # Uncomment to see game running\n",
    "    state = state.reshape(-1, env.observation_space.shape[0])\n",
    "    action = net_policy.predict(state).argmax()\n",
    "    state, reward, done, info = env.step(action)\n",
    "    tot_reward += reward\n",
    "    if done:\n",
    "        break\n",
    "env.close()\n",
    "print(f'Game ended! \\nTotal reward: {tot_reward} \\nIn {t+1} time steps.')"
   ]
  },
  {
   "cell_type": "code",
   "execution_count": 28,
   "metadata": {},
   "outputs": [],
   "source": [
    "EPS_START = 1.\n",
    "EPS_END = 0.001\n",
    "EPS_DECAY = 5000\n",
    "\n",
    "eps = EPS_END + (EPS_START - EPS_END) * np.exp(-1. * np.arange(100_000) / EPS_DECAY)\n",
    "\n",
    "#eps2 = np.linspace(1., 0.01, 2000)\n",
    "#eps3 = np.array([0.99**e for e in range(2000)])"
   ]
  },
  {
   "cell_type": "code",
   "execution_count": 32,
   "metadata": {},
   "outputs": [
    {
     "data": {
      "text/plain": [
       "[<matplotlib.lines.Line2D at 0x7f625ed44850>]"
      ]
     },
     "execution_count": 32,
     "metadata": {},
     "output_type": "execute_result"
    },
    {
     "data": {
      "image/png": "[encoded data removed]",
      "text/plain": [
       "<Figure size 432x288 with 1 Axes>"
      ]
     },
     "metadata": {
      "needs_background": "light"
     },
     "output_type": "display_data"
    }
   ],
   "source": [
    "import matplotlib.pyplot as plt\n",
    "plt.plot(eps[10000:30000])\n",
    "#plt.plot(eps2)\n",
    "#plt.plot(eps3)"
   ]
  },
  {
   "cell_type": "code",
   "execution_count": 4,
   "metadata": {},
   "outputs": [
    {
     "name": "stdout",
     "output_type": "stream",
     "text": [
      "[-0.46048661  0.        ]\n",
      "2\n",
      "[-0.45995713  0.00052948] -1.0 False\n"
     ]
    }
   ],
   "source": [
    "env = gym.make('MountainCar-v0')\n",
    "state = env.reset()\n",
    "action = env.action_space.sample()\n",
    "state_n, reward, done, info = env.step(action)\n",
    "print(state)\n",
    "print(action)\n",
    "print(state_n, reward, done)\n",
    "env.close()"
   ]
  },
  {
   "cell_type": "code",
   "execution_count": 10,
   "metadata": {},
   "outputs": [
    {
     "name": "stdout",
     "output_type": "stream",
     "text": [
      "  (Down)\n",
      "SFFFFFFF\n",
      "\u001b[41mF\u001b[0mFFFFFFF\n",
      "FFFHFFFF\n",
      "FFFFFHFF\n",
      "FFFHFFFF\n",
      "FHHFFFHF\n",
      "FHFFHFHF\n",
      "FFFHFFFG\n",
      "0\n",
      "1\n",
      "8 0.0 False\n"
     ]
    }
   ],
   "source": [
    "env = gym.make('FrozenLake8x8-v0')\n",
    "state = env.reset()\n",
    "action = env.action_space.sample()\n",
    "state_n, reward, done, info = env.step(action)\n",
    "env.render()\n",
    "print(state)\n",
    "print(action)\n",
    "print(state_n, reward, done)\n",
    "env.close()"
   ]
  },
  {
   "cell_type": "code",
   "execution_count": 9,
   "metadata": {},
   "outputs": [
    {
     "name": "stdout",
     "output_type": "stream",
     "text": [
      "(210, 160, 3)\n",
      "7\n",
      "(210, 160, 3) 0.0 False\n"
     ]
    },
    {
     "data": {
      "image/png": "[encoded data removed]",
      "text/plain": [
       "<Figure size 432x288 with 1 Axes>"
      ]
     },
     "metadata": {
      "needs_background": "light"
     },
     "output_type": "display_data"
    }
   ],
   "source": [
    "env = gym.make('MsPacman-v0')\n",
    "state = env.reset()\n",
    "action = env.action_space.sample()\n",
    "state_n, reward, done, info = env.step(action)\n",
    "print(state.shape)\n",
    "print(action)\n",
    "print(state_n.shape, reward, done)\n",
    "env.close()\n",
    "\n",
    "plt.imshow(state)\n",
    "plt.show()"
   ]
  },
  {
   "cell_type": "code",
   "execution_count": 11,
   "metadata": {},
   "outputs": [
    {
     "name": "stderr",
     "output_type": "stream",
     "text": [
      "/home/eroman/.conda/envs/py37/lib/python3.7/site-packages/gym/logger.py:30: UserWarning: \u001b[33mWARN: Box bound precision lowered by casting to float32\u001b[0m\n",
      "  warnings.warn(colorize('%s: %s'%('WARN', msg % args), 'yellow'))\n"
     ]
    },
    {
     "name": "stdout",
     "output_type": "stream",
     "text": [
      "Track generation: 1236..1548 -> 312-tiles track\n",
      "(96, 96, 3)\n",
      "[-0.8538952   0.5786537   0.20268448]\n",
      "(96, 96, 3) 6.330868167202572 False\n"
     ]
    },
    {
     "data": {
      "image/png": "[encoded data removed]",
      "text/plain": [
       "<Figure size 432x288 with 1 Axes>"
      ]
     },
     "metadata": {
      "needs_background": "light"
     },
     "output_type": "display_data"
    }
   ],
   "source": [
    "env = gym.make('CarRacing-v0')\n",
    "state = env.reset()\n",
    "action = env.action_space.sample()\n",
    "state_n, reward, done, info = env.step(action)\n",
    "print(state.shape)\n",
    "print(action)\n",
    "print(state_n.shape, reward, done)\n",
    "env.close()\n",
    "\n",
    "plt.imshow(state)\n",
    "plt.show()"
   ]
  },
  {
   "cell_type": "code",
   "execution_count": null,
   "metadata": {},
   "outputs": [],
   "source": []
  }
 ],
 "metadata": {
  "kernelspec": {
   "display_name": "Python 3",
   "language": "python",
   "name": "python3"
  },
  "language_info": {
   "codemirror_mode": {
    "name": "ipython",
    "version": 3
   },
   "file_extension": ".py",
   "mimetype": "text/x-python",
   "name": "python",
   "nbconvert_exporter": "python",
   "pygments_lexer": "ipython3",
   "version": "3.8.2"
  }
 },
 "nbformat": 4,
 "nbformat_minor": 4
}
