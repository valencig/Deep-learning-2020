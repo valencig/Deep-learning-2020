{
  "nbformat": 4,
  "nbformat_minor": 0,
  "metadata": {
    "kernelspec": {
      "display_name": "Python 3",
      "language": "python",
      "name": "python3"
    },
    "language_info": {
      "codemirror_mode": {
        "name": "ipython",
        "version": 3
      },
      "file_extension": ".py",
      "mimetype": "text/x-python",
      "name": "python",
      "nbconvert_exporter": "python",
      "pygments_lexer": "ipython3",
      "version": "3.7.6"
    },
    "colab": {
      "name": "02_DL_MLP.ipynb",
      "provenance": [],
      "collapsed_sections": []
    }
  },
  "cells": [
    {
      "cell_type": "code",
      "metadata": {
        "id": "glhoh4KybWLh",
        "colab_type": "code",
        "colab": {}
      },
      "source": [
        "# http://www.emergentmind.com/neural-network\n",
        "# https://hmkcode.com/ai/backpropagation-step-by-step/\n",
        "# https://mattmazur.com/2015/03/17/a-step-by-step-backpropagation-example/"
      ],
      "execution_count": 0,
      "outputs": []
    },
    {
      "cell_type": "code",
      "metadata": {
        "id": "e3ohV7teCRnM",
        "colab_type": "code",
        "colab": {}
      },
      "source": [
        "# Revisa la documentacion de python para poder instalar tenworflow.\n",
        "# Quizas alguno de las siguientes lineas sean de utilidad, o usa la suite anaconda.\n",
        "# !conda install tensorflow\n",
        "# !pip install tensorflow"
      ],
      "execution_count": 0,
      "outputs": []
    },
    {
      "cell_type": "code",
      "metadata": {
        "id": "DhmUvXATbWLr",
        "colab_type": "code",
        "colab": {}
      },
      "source": [
        "import numpy as np\n",
        "import matplotlib.pyplot as plt"
      ],
      "execution_count": 0,
      "outputs": []
    },
    {
      "cell_type": "code",
      "metadata": {
        "id": "Pr8pwJ5ebWL0",
        "colab_type": "code",
        "outputId": "1d0bda03-5997-4082-bd72-f0e532524dac",
        "colab": {
          "base_uri": "https://localhost:8080/",
          "height": 350
        }
      },
      "source": [
        "# Load and split data\n",
        "from sklearn.datasets import load_iris\n",
        "iris = load_iris()\n",
        "\n",
        "# We will use length and width of petals as X to predict length and width of sepals as Y\n",
        "# We also keep the labels in a vector L\n",
        "X = iris.data[:, :2]\n",
        "Y = iris.data[:, 2:]\n",
        "L = iris.target\n",
        "\n",
        "print(\"X data:\", X.shape)\n",
        "print(\"Y data:\", Y.shape)\n",
        "print(\"L data:\", L.shape)\n",
        "\n",
        "# Plot it\n",
        "plt.figure(figsize=(12, 4))\n",
        "plt.subplot(1, 2, 1)\n",
        "plt.scatter(X[L==0, 0], X[L==0, 1], c='b', label='setosa')\n",
        "plt.scatter(X[L==1, 0], X[L==1, 1], c='r', label='versicolor')\n",
        "plt.scatter(X[L==2, 0], X[L==2, 1], c='g', label='virginica')\n",
        "plt.legend()\n",
        "plt.grid(True)\n",
        "plt.xlabel('petal length')\n",
        "plt.ylabel('petal width')\n",
        "plt.title('Input variables X')\n",
        "plt.subplot(1, 2, 2)\n",
        "plt.scatter(Y[L==0, 0], Y[L==0, 1], c='b', label='setosa')\n",
        "plt.scatter(Y[L==1, 0], Y[L==1, 1], c='r', label='versicolor')\n",
        "plt.scatter(Y[L==2, 0], Y[L==2, 1], c='g', label='virginica')\n",
        "plt.legend()\n",
        "plt.grid(True)\n",
        "plt.xlabel('sepal length')\n",
        "plt.ylabel('sepal width')\n",
        "plt.title('Output variables Y')\n",
        "plt.show()"
      ],
      "execution_count": 0,
      "outputs": [
        {
          "output_type": "stream",
          "text": [
            "X data: (150, 2)\n",
            "Y data: (150, 2)\n",
            "L data: (150,)\n"
          ],
          "name": "stdout"
        },
        {
          "output_type": "display_data",
          "data": {
            "image/png": "[encoded data removed]",
            "text/plain": [
              "<Figure size 864x288 with 2 Axes>"
            ]
          },
          "metadata": {
            "tags": []
          }
        }
      ]
    },
    {
      "cell_type": "code",
      "metadata": {
        "id": "16xfdF2xbWL8",
        "colab_type": "code",
        "outputId": "5b4b11dd-951c-4f13-e37e-1434fb78513b",
        "colab": {
          "base_uri": "https://localhost:8080/",
          "height": 127
        }
      },
      "source": [
        "# Create a vector of indices and split it into training and test sets\n",
        "from sklearn.model_selection import train_test_split\n",
        "x_train, x_test, y_train, y_test, l_train, l_test = train_test_split(X, Y, L, test_size=0.2)\n",
        "\n",
        "print(\"Training + validation inputs X:\", x_train.shape)\n",
        "print(\"Test inputs X:\", x_test.shape)\n",
        "print(\"Training + validation outputs Y:\", y_train.shape)\n",
        "print(\"Test outputs Y:\", y_test.shape)\n",
        "print(\"Training + validation labels l:\", l_train.shape)\n",
        "print(\"Test labels l:\", l_test.shape)"
      ],
      "execution_count": 0,
      "outputs": [
        {
          "output_type": "stream",
          "text": [
            "Training + validation inputs X: (120, 2)\n",
            "Test inputs X: (30, 2)\n",
            "Training + validation outputs Y: (120, 2)\n",
            "Test outputs Y: (30, 2)\n",
            "Training + validation labels l: (120,)\n",
            "Test labels l: (30,)\n"
          ],
          "name": "stdout"
        }
      ]
    },
    {
      "cell_type": "code",
      "metadata": {
        "id": "RXiiHm5ZZ-5g",
        "colab_type": "code",
        "colab": {}
      },
      "source": [
        "# Documentación de tensorflow y keras\n",
        "# https://www.tensorflow.org/\n",
        "# https://keras.io/"
      ],
      "execution_count": 0,
      "outputs": []
    },
    {
      "cell_type": "code",
      "metadata": {
        "id": "jwGu_37rbWMC",
        "colab_type": "code",
        "outputId": "4ce5dcea-3a12-4012-9b46-7ffe79ae34bb",
        "colab": {
          "base_uri": "https://localhost:8080/",
          "height": 65
        }
      },
      "source": [
        "# import tensorflow an the classes Model, Input (place-holder layer), and Dense (fully connected layer)\n",
        "import tensorflow as tf\n",
        "from tensorflow.keras.models import Model\n",
        "from tensorflow.keras.layers import Input, Dense"
      ],
      "execution_count": 0,
      "outputs": [
        {
          "output_type": "display_data",
          "data": {
            "text/html": [
              "<p style=\"color: red;\">\n",
              "The default version of TensorFlow in Colab will soon switch to TensorFlow 2.x.<br>\n",
              "We recommend you <a href=\"https://www.tensorflow.org/guide/migrate\" target=\"_blank\">upgrade</a> now \n",
              "or ensure your notebook will continue to use TensorFlow 1.x via the <code>%tensorflow_version 1.x</code> magic:\n",
              "<a href=\"https://colab.research.google.com/notebooks/tensorflow_version.ipynb\" target=\"_blank\">more info</a>.</p>\n"
            ],
            "text/plain": [
              "<IPython.core.display.HTML object>"
            ]
          },
          "metadata": {
            "tags": []
          }
        }
      ]
    },
    {
      "cell_type": "code",
      "metadata": {
        "id": "OfZ2xl7XbWMI",
        "colab_type": "code",
        "outputId": "b486386c-de09-49b8-cc72-0d36c46be3a6",
        "colab": {
          "base_uri": "https://localhost:8080/",
          "height": 313
        }
      },
      "source": [
        "# Create an MLP of two inputs x=[x1, x2], and two outputs y=[y1, y2]\n",
        "i = Input(shape=(2,), name='input')\n",
        "o = Dense(units=2, activation=None, name='output')(i)\n",
        "\n",
        "MLP = Model(inputs=i, outputs=o)\n",
        "MLP.summary() # print a summary of the MLP model"
      ],
      "execution_count": 0,
      "outputs": [
        {
          "output_type": "stream",
          "text": [
            "WARNING:tensorflow:From /usr/local/lib/python3.6/dist-packages/tensorflow_core/python/ops/resource_variable_ops.py:1630: calling BaseResourceVariable.__init__ (from tensorflow.python.ops.resource_variable_ops) with constraint is deprecated and will be removed in a future version.\n",
            "Instructions for updating:\n",
            "If using Keras pass *_constraint arguments to layers.\n",
            "Model: \"model\"\n",
            "_________________________________________________________________\n",
            "Layer (type)                 Output Shape              Param #   \n",
            "=================================================================\n",
            "input (InputLayer)           [(None, 2)]               0         \n",
            "_________________________________________________________________\n",
            "output (Dense)               (None, 2)                 6         \n",
            "=================================================================\n",
            "Total params: 6\n",
            "Trainable params: 6\n",
            "Non-trainable params: 0\n",
            "_________________________________________________________________\n"
          ],
          "name": "stdout"
        }
      ]
    },
    {
      "cell_type": "code",
      "metadata": {
        "id": "YiR10FbJbWMN",
        "colab_type": "code",
        "outputId": "b6c64f79-f03b-4e72-a20c-de431fd1709f",
        "colab": {
          "base_uri": "https://localhost:8080/",
          "height": 109
        }
      },
      "source": [
        "# Obtain weights and biases of the hidden layer\n",
        "w1, b1 = MLP.layers[1].get_weights()\n",
        "print(\"Initial weights:\", w1.shape)\n",
        "print(w1)\n",
        "print(\"Initial biases\", b1.shape)\n",
        "print(b1)"
      ],
      "execution_count": 0,
      "outputs": [
        {
          "output_type": "stream",
          "text": [
            "Initial weights: (2, 2)\n",
            "[[ 0.46377623 -0.72005254]\n",
            " [-0.46841317 -0.7353698 ]]\n",
            "Initial biases (2,)\n",
            "[0. 0.]\n"
          ],
          "name": "stdout"
        }
      ]
    },
    {
      "cell_type": "code",
      "metadata": {
        "id": "yf20TvnAbWMR",
        "colab_type": "code",
        "outputId": "d4d16902-d4a8-4b1d-9977-efdf3ac9cf2f",
        "colab": {
          "base_uri": "https://localhost:8080/",
          "height": 174
        }
      },
      "source": [
        "# Plot a diagram of the MLP model\n",
        "from tensorflow.keras.utils import plot_model\n",
        "plot_model(MLP, to_file='MLP.png')"
      ],
      "execution_count": 0,
      "outputs": [
        {
          "output_type": "execute_result",
          "data": {
            "image/png": "[encoded data removed]",
            "text/plain": [
              "<IPython.core.display.Image object>"
            ]
          },
          "metadata": {
            "tags": []
          },
          "execution_count": 7
        }
      ]
    },
    {
      "cell_type": "code",
      "metadata": {
        "id": "CJ0ZRpsibWMY",
        "colab_type": "code",
        "colab": {}
      },
      "source": [
        "# Here we define the optimizer and loss function\n",
        "# Adam and mse in this initial example\n",
        "MLP.compile(optimizer='adam', loss='mse')"
      ],
      "execution_count": 0,
      "outputs": []
    },
    {
      "cell_type": "code",
      "metadata": {
        "id": "Hzez7n_xbWMc",
        "colab_type": "code",
        "outputId": "24ca6caa-4138-4b33-d7ca-1c2ffbd4e732",
        "colab": {
          "base_uri": "https://localhost:8080/",
          "height": 1000
        }
      },
      "source": [
        "# And now we train the model\n",
        "# Learn to predict sepal's lenght and width from petal's lenght and width\n",
        "HISTORY = MLP.fit(x=x_train, y=y_train, batch_size=1, epochs=100, verbose=1, validation_split=0.2)"
      ],
      "execution_count": 0,
      "outputs": [
        {
          "output_type": "stream",
          "text": [
            "Train on 96 samples, validate on 24 samples\n",
            "Epoch 1/100\n",
            "96/96 [==============================] - 0s 2ms/sample - loss: 28.7170 - val_loss: 26.3471\n",
            "Epoch 2/100\n",
            "96/96 [==============================] - 0s 1ms/sample - loss: 21.7045 - val_loss: 19.9866\n",
            "Epoch 3/100\n",
            "96/96 [==============================] - 0s 1ms/sample - loss: 16.3603 - val_loss: 15.0469\n",
            "Epoch 4/100\n",
            "96/96 [==============================] - 0s 1ms/sample - loss: 12.2914 - val_loss: 11.2822\n",
            "Epoch 5/100\n",
            "96/96 [==============================] - 0s 1ms/sample - loss: 9.1775 - val_loss: 8.4254\n",
            "Epoch 6/100\n",
            "96/96 [==============================] - 0s 1ms/sample - loss: 6.8220 - val_loss: 6.2326\n",
            "Epoch 7/100\n",
            "96/96 [==============================] - 0s 1ms/sample - loss: 5.0468 - val_loss: 4.6082\n",
            "Epoch 8/100\n",
            "96/96 [==============================] - 0s 1ms/sample - loss: 3.7470 - val_loss: 3.4426\n",
            "Epoch 9/100\n",
            "96/96 [==============================] - 0s 1ms/sample - loss: 2.8103 - val_loss: 2.6101\n",
            "Epoch 10/100\n",
            "96/96 [==============================] - 0s 1ms/sample - loss: 2.1651 - val_loss: 2.0353\n",
            "Epoch 11/100\n",
            "96/96 [==============================] - 0s 987us/sample - loss: 1.7195 - val_loss: 1.6372\n",
            "Epoch 12/100\n",
            "96/96 [==============================] - 0s 1ms/sample - loss: 1.4249 - val_loss: 1.3710\n",
            "Epoch 13/100\n",
            "96/96 [==============================] - 0s 1ms/sample - loss: 1.2361 - val_loss: 1.1895\n",
            "Epoch 14/100\n",
            "96/96 [==============================] - 0s 1ms/sample - loss: 1.1182 - val_loss: 1.0950\n",
            "Epoch 15/100\n",
            "96/96 [==============================] - 0s 1ms/sample - loss: 1.0467 - val_loss: 1.0225\n",
            "Epoch 16/100\n",
            "96/96 [==============================] - 0s 1ms/sample - loss: 1.0020 - val_loss: 0.9757\n",
            "Epoch 17/100\n",
            "96/96 [==============================] - 0s 1ms/sample - loss: 0.9771 - val_loss: 0.9551\n",
            "Epoch 18/100\n",
            "96/96 [==============================] - 0s 1ms/sample - loss: 0.9570 - val_loss: 0.9331\n",
            "Epoch 19/100\n",
            "96/96 [==============================] - 0s 1ms/sample - loss: 0.9484 - val_loss: 0.9242\n",
            "Epoch 20/100\n",
            "96/96 [==============================] - 0s 1ms/sample - loss: 0.9347 - val_loss: 0.9055\n",
            "Epoch 21/100\n",
            "96/96 [==============================] - 0s 1ms/sample - loss: 0.9274 - val_loss: 0.8975\n",
            "Epoch 22/100\n",
            "96/96 [==============================] - 0s 1ms/sample - loss: 0.9207 - val_loss: 0.8936\n",
            "Epoch 23/100\n",
            "96/96 [==============================] - 0s 1ms/sample - loss: 0.9106 - val_loss: 0.8809\n",
            "Epoch 24/100\n",
            "96/96 [==============================] - 0s 1ms/sample - loss: 0.9052 - val_loss: 0.8631\n",
            "Epoch 25/100\n",
            "96/96 [==============================] - 0s 1ms/sample - loss: 0.8954 - val_loss: 0.8571\n",
            "Epoch 26/100\n",
            "96/96 [==============================] - 0s 1ms/sample - loss: 0.8888 - val_loss: 0.8478\n",
            "Epoch 27/100\n",
            "96/96 [==============================] - 0s 1ms/sample - loss: 0.8804 - val_loss: 0.8508\n",
            "Epoch 28/100\n",
            "96/96 [==============================] - 0s 1ms/sample - loss: 0.8701 - val_loss: 0.8430\n",
            "Epoch 29/100\n",
            "96/96 [==============================] - 0s 1ms/sample - loss: 0.8666 - val_loss: 0.8396\n",
            "Epoch 30/100\n",
            "96/96 [==============================] - 0s 1ms/sample - loss: 0.8547 - val_loss: 0.8343\n",
            "Epoch 31/100\n",
            "96/96 [==============================] - 0s 1ms/sample - loss: 0.8473 - val_loss: 0.8227\n",
            "Epoch 32/100\n",
            "96/96 [==============================] - 0s 1ms/sample - loss: 0.8402 - val_loss: 0.8209\n",
            "Epoch 33/100\n",
            "96/96 [==============================] - 0s 1ms/sample - loss: 0.8325 - val_loss: 0.8173\n",
            "Epoch 34/100\n",
            "96/96 [==============================] - 0s 1ms/sample - loss: 0.8262 - val_loss: 0.8082\n",
            "Epoch 35/100\n",
            "96/96 [==============================] - 0s 1ms/sample - loss: 0.8187 - val_loss: 0.8100\n",
            "Epoch 36/100\n",
            "96/96 [==============================] - 0s 975us/sample - loss: 0.8076 - val_loss: 0.7982\n",
            "Epoch 37/100\n",
            "96/96 [==============================] - 0s 1ms/sample - loss: 0.8009 - val_loss: 0.7901\n",
            "Epoch 38/100\n",
            "96/96 [==============================] - 0s 1ms/sample - loss: 0.8041 - val_loss: 0.7885\n",
            "Epoch 39/100\n",
            "96/96 [==============================] - 0s 1ms/sample - loss: 0.7844 - val_loss: 0.7819\n",
            "Epoch 40/100\n",
            "96/96 [==============================] - 0s 1ms/sample - loss: 0.7807 - val_loss: 0.7759\n",
            "Epoch 41/100\n",
            "96/96 [==============================] - 0s 1ms/sample - loss: 0.7730 - val_loss: 0.7606\n",
            "Epoch 42/100\n",
            "96/96 [==============================] - 0s 1ms/sample - loss: 0.7642 - val_loss: 0.7587\n",
            "Epoch 43/100\n",
            "96/96 [==============================] - 0s 1ms/sample - loss: 0.7531 - val_loss: 0.7453\n",
            "Epoch 44/100\n",
            "96/96 [==============================] - 0s 1ms/sample - loss: 0.7518 - val_loss: 0.7467\n",
            "Epoch 45/100\n",
            "96/96 [==============================] - 0s 1ms/sample - loss: 0.7403 - val_loss: 0.7416\n",
            "Epoch 46/100\n",
            "96/96 [==============================] - 0s 998us/sample - loss: 0.7331 - val_loss: 0.7356\n",
            "Epoch 47/100\n",
            "96/96 [==============================] - 0s 1ms/sample - loss: 0.7252 - val_loss: 0.7323\n",
            "Epoch 48/100\n",
            "96/96 [==============================] - 0s 1ms/sample - loss: 0.7195 - val_loss: 0.7226\n",
            "Epoch 49/100\n",
            "96/96 [==============================] - 0s 1ms/sample - loss: 0.7116 - val_loss: 0.7184\n",
            "Epoch 50/100\n",
            "96/96 [==============================] - 0s 1ms/sample - loss: 0.7017 - val_loss: 0.7151\n",
            "Epoch 51/100\n",
            "96/96 [==============================] - 0s 1ms/sample - loss: 0.6958 - val_loss: 0.7024\n",
            "Epoch 52/100\n",
            "96/96 [==============================] - 0s 1ms/sample - loss: 0.6895 - val_loss: 0.6979\n",
            "Epoch 53/100\n",
            "96/96 [==============================] - 0s 1ms/sample - loss: 0.6850 - val_loss: 0.6912\n",
            "Epoch 54/100\n",
            "96/96 [==============================] - 0s 971us/sample - loss: 0.6765 - val_loss: 0.6884\n",
            "Epoch 55/100\n",
            "96/96 [==============================] - 0s 1ms/sample - loss: 0.6696 - val_loss: 0.6825\n",
            "Epoch 56/100\n",
            "96/96 [==============================] - 0s 1ms/sample - loss: 0.6617 - val_loss: 0.6807\n",
            "Epoch 57/100\n",
            "96/96 [==============================] - 0s 1ms/sample - loss: 0.6528 - val_loss: 0.6615\n",
            "Epoch 58/100\n",
            "96/96 [==============================] - 0s 1ms/sample - loss: 0.6466 - val_loss: 0.6677\n",
            "Epoch 59/100\n",
            "96/96 [==============================] - 0s 1ms/sample - loss: 0.6427 - val_loss: 0.6641\n",
            "Epoch 60/100\n",
            "96/96 [==============================] - 0s 1ms/sample - loss: 0.6346 - val_loss: 0.6509\n",
            "Epoch 61/100\n",
            "96/96 [==============================] - 0s 1ms/sample - loss: 0.6290 - val_loss: 0.6556\n",
            "Epoch 62/100\n",
            "96/96 [==============================] - 0s 998us/sample - loss: 0.6228 - val_loss: 0.6541\n",
            "Epoch 63/100\n",
            "96/96 [==============================] - 0s 1ms/sample - loss: 0.6194 - val_loss: 0.6497\n",
            "Epoch 64/100\n",
            "96/96 [==============================] - 0s 1ms/sample - loss: 0.6126 - val_loss: 0.6518\n",
            "Epoch 65/100\n",
            "96/96 [==============================] - 0s 1ms/sample - loss: 0.6027 - val_loss: 0.6299\n",
            "Epoch 66/100\n",
            "96/96 [==============================] - 0s 1ms/sample - loss: 0.5996 - val_loss: 0.6220\n",
            "Epoch 67/100\n",
            "96/96 [==============================] - 0s 1ms/sample - loss: 0.5952 - val_loss: 0.6169\n",
            "Epoch 68/100\n",
            "96/96 [==============================] - 0s 1ms/sample - loss: 0.5867 - val_loss: 0.6080\n",
            "Epoch 69/100\n",
            "96/96 [==============================] - 0s 1ms/sample - loss: 0.5833 - val_loss: 0.6090\n",
            "Epoch 70/100\n",
            "96/96 [==============================] - 0s 1ms/sample - loss: 0.5749 - val_loss: 0.6012\n",
            "Epoch 71/100\n",
            "96/96 [==============================] - 0s 1ms/sample - loss: 0.5692 - val_loss: 0.5964\n",
            "Epoch 72/100\n",
            "96/96 [==============================] - 0s 1ms/sample - loss: 0.5658 - val_loss: 0.5910\n",
            "Epoch 73/100\n",
            "96/96 [==============================] - 0s 1ms/sample - loss: 0.5593 - val_loss: 0.5897\n",
            "Epoch 74/100\n",
            "96/96 [==============================] - 0s 1ms/sample - loss: 0.5547 - val_loss: 0.5865\n",
            "Epoch 75/100\n",
            "96/96 [==============================] - 0s 1ms/sample - loss: 0.5478 - val_loss: 0.5707\n",
            "Epoch 76/100\n",
            "96/96 [==============================] - 0s 1ms/sample - loss: 0.5466 - val_loss: 0.5635\n",
            "Epoch 77/100\n",
            "96/96 [==============================] - 0s 1ms/sample - loss: 0.5425 - val_loss: 0.5656\n",
            "Epoch 78/100\n",
            "96/96 [==============================] - 0s 1ms/sample - loss: 0.5345 - val_loss: 0.5713\n",
            "Epoch 79/100\n",
            "96/96 [==============================] - 0s 1ms/sample - loss: 0.5268 - val_loss: 0.5793\n",
            "Epoch 80/100\n",
            "96/96 [==============================] - 0s 1ms/sample - loss: 0.5277 - val_loss: 0.5607\n",
            "Epoch 81/100\n",
            "96/96 [==============================] - 0s 1ms/sample - loss: 0.5207 - val_loss: 0.5566\n",
            "Epoch 82/100\n",
            "96/96 [==============================] - 0s 1ms/sample - loss: 0.5162 - val_loss: 0.5571\n",
            "Epoch 83/100\n",
            "96/96 [==============================] - 0s 1ms/sample - loss: 0.5108 - val_loss: 0.5480\n",
            "Epoch 84/100\n",
            "96/96 [==============================] - 0s 1ms/sample - loss: 0.5128 - val_loss: 0.5331\n",
            "Epoch 85/100\n",
            "96/96 [==============================] - 0s 1ms/sample - loss: 0.5024 - val_loss: 0.5407\n",
            "Epoch 86/100\n",
            "96/96 [==============================] - 0s 1ms/sample - loss: 0.5001 - val_loss: 0.5326\n",
            "Epoch 87/100\n",
            "96/96 [==============================] - 0s 1ms/sample - loss: 0.4939 - val_loss: 0.5427\n",
            "Epoch 88/100\n",
            "96/96 [==============================] - 0s 1ms/sample - loss: 0.4878 - val_loss: 0.5343\n",
            "Epoch 89/100\n",
            "96/96 [==============================] - 0s 1ms/sample - loss: 0.4853 - val_loss: 0.5483\n",
            "Epoch 90/100\n",
            "96/96 [==============================] - 0s 1ms/sample - loss: 0.4815 - val_loss: 0.5293\n",
            "Epoch 91/100\n",
            "96/96 [==============================] - 0s 1ms/sample - loss: 0.4770 - val_loss: 0.5289\n",
            "Epoch 92/100\n",
            "96/96 [==============================] - 0s 1ms/sample - loss: 0.4754 - val_loss: 0.5144\n",
            "Epoch 93/100\n",
            "96/96 [==============================] - 0s 1ms/sample - loss: 0.4704 - val_loss: 0.5119\n",
            "Epoch 94/100\n",
            "96/96 [==============================] - 0s 1ms/sample - loss: 0.4679 - val_loss: 0.5166\n",
            "Epoch 95/100\n",
            "96/96 [==============================] - 0s 1ms/sample - loss: 0.4672 - val_loss: 0.5107\n",
            "Epoch 96/100\n",
            "96/96 [==============================] - 0s 1ms/sample - loss: 0.4602 - val_loss: 0.5107\n",
            "Epoch 97/100\n",
            "96/96 [==============================] - 0s 1ms/sample - loss: 0.4567 - val_loss: 0.5077\n",
            "Epoch 98/100\n",
            "96/96 [==============================] - 0s 1ms/sample - loss: 0.4537 - val_loss: 0.5018\n",
            "Epoch 99/100\n",
            "96/96 [==============================] - 0s 1ms/sample - loss: 0.4519 - val_loss: 0.4924\n",
            "Epoch 100/100\n",
            "96/96 [==============================] - 0s 1ms/sample - loss: 0.4449 - val_loss: 0.5010\n"
          ],
          "name": "stdout"
        }
      ]
    },
    {
      "cell_type": "code",
      "metadata": {
        "id": "x7I-BOSFbgX-",
        "colab_type": "code",
        "outputId": "e5e5c709-591f-4bd3-940f-d9494da27f6e",
        "colab": {
          "base_uri": "https://localhost:8080/",
          "height": 337
        }
      },
      "source": [
        "# Plot loss (The object MLP keeps track of the training and validation performance)\n",
        "plt.figure(figsize=(12, 5))\n",
        "plt.plot(MLP.history.history['loss'], label='Training', linewidth=2)\n",
        "plt.plot(MLP.history.history['val_loss'], label='Validation', linewidth=2)\n",
        "plt.legend()\n",
        "plt.xlabel('Epoch')\n",
        "plt.ylabel('Loss')\n",
        "plt.grid(True)\n",
        "plt.show()"
      ],
      "execution_count": 0,
      "outputs": [
        {
          "output_type": "display_data",
          "data": {
            "image/png": "[encoded data removed]",
            "text/plain": [
              "<Figure size 864x360 with 1 Axes>"
            ]
          },
          "metadata": {
            "tags": []
          }
        }
      ]
    },
    {
      "cell_type": "code",
      "metadata": {
        "id": "rtHqcSQg2aQR",
        "colab_type": "code",
        "outputId": "a097de0f-0760-4f4e-e7ea-927dda9b28e5",
        "colab": {
          "base_uri": "https://localhost:8080/",
          "height": 109
        }
      },
      "source": [
        "# Obtain weights and biases of the hidden layer after training\n",
        "w1, b1 = MLP.layers[1].get_weights()\n",
        "print(\"Initial weights:\", w1.shape)\n",
        "print(w1)\n",
        "print(\"Initial biases\", b1.shape)\n",
        "print(b1)"
      ],
      "execution_count": 0,
      "outputs": [
        {
          "output_type": "stream",
          "text": [
            "Initial weights: (2, 2)\n",
            "[[ 1.199535    0.36713123]\n",
            " [-1.0338111  -0.47259298]]\n",
            "Initial biases (2,)\n",
            "[-0.149881    0.47941065]\n"
          ],
          "name": "stdout"
        }
      ]
    },
    {
      "cell_type": "code",
      "metadata": {
        "id": "M99b2NpEbWMi",
        "colab_type": "code",
        "outputId": "b3285290-f8fe-4b3d-e895-7823df80aa86",
        "colab": {
          "base_uri": "https://localhost:8080/",
          "height": 35
        }
      },
      "source": [
        "# Use the trained model to compute the average test loss\n",
        "MLP.evaluate(x=x_test, y=y_test, verbose=False)"
      ],
      "execution_count": 0,
      "outputs": [
        {
          "output_type": "execute_result",
          "data": {
            "text/plain": [
              "0.4546361565589905"
            ]
          },
          "metadata": {
            "tags": []
          },
          "execution_count": 12
        }
      ]
    },
    {
      "cell_type": "code",
      "metadata": {
        "id": "-vkDhVD3bWMo",
        "colab_type": "code",
        "outputId": "1cb2ea7f-ccf0-440d-c171-3b262b517941",
        "colab": {
          "base_uri": "https://localhost:8080/",
          "height": 35
        }
      },
      "source": [
        "# Now generate the predictions on the test set\n",
        "y_test_hat = MLP.predict(x=x_test)\n",
        "print(y_test_hat.shape)"
      ],
      "execution_count": 0,
      "outputs": [
        {
          "output_type": "stream",
          "text": [
            "(30, 2)\n"
          ],
          "name": "stdout"
        }
      ]
    },
    {
      "cell_type": "code",
      "metadata": {
        "id": "hh43w3bRbWMs",
        "colab_type": "code",
        "outputId": "79e88090-b307-4579-8f8d-778a35412009",
        "colab": {
          "base_uri": "https://localhost:8080/",
          "height": 295
        }
      },
      "source": [
        "# Plot y_test_hat\n",
        "plt.scatter(y_test[l_test==0, 0], y_test[l_test==0, 1], c='b', label='set y')\n",
        "plt.scatter(y_test[l_test==1, 0], y_test[l_test==1, 1], c='r', label='ver y')\n",
        "plt.scatter(y_test[l_test==2, 0], y_test[l_test==2, 1], c='g', label='vir y')\n",
        "\n",
        "plt.scatter(y_test_hat[l_test==0, 0], y_test_hat[l_test==0, 1], c='b', marker='+', label='set y_h')\n",
        "plt.scatter(y_test_hat[l_test==1, 0], y_test_hat[l_test==1, 1], c='r', marker='+', label='ver y_h')\n",
        "plt.scatter(y_test_hat[l_test==2, 0], y_test_hat[l_test==2, 1], c='g', marker='+', label='vir y_h')\n",
        "\n",
        "plt.legend()\n",
        "plt.grid(True)\n",
        "plt.xlabel('sepal length')\n",
        "plt.ylabel('sepal width')\n",
        "plt.title('Output variables')\n",
        "plt.show()"
      ],
      "execution_count": 0,
      "outputs": [
        {
          "output_type": "display_data",
          "data": {
            "image/png": "[encoded data removed]",
            "text/plain": [
              "<Figure size 432x288 with 1 Axes>"
            ]
          },
          "metadata": {
            "tags": []
          }
        }
      ]
    },
    {
      "cell_type": "code",
      "metadata": {
        "id": "hpystfDabWMw",
        "colab_type": "code",
        "outputId": "10dd7f45-2f9b-4773-d838-0d71b2ed2b56",
        "colab": {
          "base_uri": "https://localhost:8080/",
          "height": 348
        }
      },
      "source": [
        "# Create a larger MLP\n",
        "i = Input(shape=(2,), name='input')\n",
        "h = Dense(units=32, activation='relu', name='hidden1')(i)\n",
        "h = Dense(units=16, activation='relu', name='hidden2')(h)\n",
        "h = Dense(units=8, activation='relu', name='hidden3')(h)\n",
        "o = Dense(units=2, activation=None, name='output')(h)\n",
        "\n",
        "MLP = Model(inputs=i, outputs=o)\n",
        "MLP.summary()"
      ],
      "execution_count": 0,
      "outputs": [
        {
          "output_type": "stream",
          "text": [
            "Model: \"model_1\"\n",
            "_________________________________________________________________\n",
            "Layer (type)                 Output Shape              Param #   \n",
            "=================================================================\n",
            "input (InputLayer)           [(None, 2)]               0         \n",
            "_________________________________________________________________\n",
            "hidden1 (Dense)              (None, 32)                96        \n",
            "_________________________________________________________________\n",
            "hidden2 (Dense)              (None, 16)                528       \n",
            "_________________________________________________________________\n",
            "hidden3 (Dense)              (None, 8)                 136       \n",
            "_________________________________________________________________\n",
            "output (Dense)               (None, 2)                 18        \n",
            "=================================================================\n",
            "Total params: 778\n",
            "Trainable params: 778\n",
            "Non-trainable params: 0\n",
            "_________________________________________________________________\n"
          ],
          "name": "stdout"
        }
      ]
    },
    {
      "cell_type": "code",
      "metadata": {
        "id": "x3Gj9q4VbWM0",
        "colab_type": "code",
        "colab": {}
      },
      "source": [
        "# Compile it\n",
        "MLP.compile(optimizer='adam', loss='mse')"
      ],
      "execution_count": 0,
      "outputs": []
    },
    {
      "cell_type": "code",
      "metadata": {
        "id": "5yvl3ggEbWM4",
        "colab_type": "code",
        "outputId": "c31b0ffe-b97c-4acb-ea4c-9bd2371f9395",
        "colab": {
          "base_uri": "https://localhost:8080/",
          "height": 1000
        }
      },
      "source": [
        "# Train it\n",
        "MLP.fit(x=x_train, y=y_train, batch_size=1, epochs=100, verbose=1, validation_split=0.2)"
      ],
      "execution_count": 0,
      "outputs": [
        {
          "output_type": "stream",
          "text": [
            "Train on 96 samples, validate on 24 samples\n",
            "Epoch 1/100\n",
            "96/96 [==============================] - 0s 3ms/sample - loss: 3.8389 - val_loss: 2.8272\n",
            "Epoch 2/100\n",
            "96/96 [==============================] - 0s 2ms/sample - loss: 1.9760 - val_loss: 1.7200\n",
            "Epoch 3/100\n",
            "96/96 [==============================] - 0s 2ms/sample - loss: 1.3572 - val_loss: 1.4122\n",
            "Epoch 4/100\n",
            "96/96 [==============================] - 0s 1ms/sample - loss: 1.1089 - val_loss: 0.9346\n",
            "Epoch 5/100\n",
            "96/96 [==============================] - 0s 1ms/sample - loss: 0.9449 - val_loss: 1.1220\n",
            "Epoch 6/100\n",
            "96/96 [==============================] - 0s 2ms/sample - loss: 0.8246 - val_loss: 0.7053\n",
            "Epoch 7/100\n",
            "96/96 [==============================] - 0s 2ms/sample - loss: 0.6432 - val_loss: 0.5630\n",
            "Epoch 8/100\n",
            "96/96 [==============================] - 0s 1ms/sample - loss: 0.4395 - val_loss: 0.4162\n",
            "Epoch 9/100\n",
            "96/96 [==============================] - 0s 2ms/sample - loss: 0.3838 - val_loss: 0.5394\n",
            "Epoch 10/100\n",
            "96/96 [==============================] - 0s 2ms/sample - loss: 0.3355 - val_loss: 0.3175\n",
            "Epoch 11/100\n",
            "96/96 [==============================] - 0s 1ms/sample - loss: 0.3023 - val_loss: 0.2967\n",
            "Epoch 12/100\n",
            "96/96 [==============================] - 0s 2ms/sample - loss: 0.2730 - val_loss: 0.2928\n",
            "Epoch 13/100\n",
            "96/96 [==============================] - 0s 2ms/sample - loss: 0.2669 - val_loss: 0.3262\n",
            "Epoch 14/100\n",
            "96/96 [==============================] - 0s 2ms/sample - loss: 0.2732 - val_loss: 0.2868\n",
            "Epoch 15/100\n",
            "96/96 [==============================] - 0s 2ms/sample - loss: 0.2569 - val_loss: 0.2734\n",
            "Epoch 16/100\n",
            "96/96 [==============================] - 0s 2ms/sample - loss: 0.2667 - val_loss: 0.3238\n",
            "Epoch 17/100\n",
            "96/96 [==============================] - 0s 2ms/sample - loss: 0.2582 - val_loss: 0.2587\n",
            "Epoch 18/100\n",
            "96/96 [==============================] - 0s 2ms/sample - loss: 0.2504 - val_loss: 0.3026\n",
            "Epoch 19/100\n",
            "96/96 [==============================] - 0s 2ms/sample - loss: 0.2430 - val_loss: 0.2682\n",
            "Epoch 20/100\n",
            "96/96 [==============================] - 0s 1ms/sample - loss: 0.2473 - val_loss: 0.3137\n",
            "Epoch 21/100\n",
            "96/96 [==============================] - 0s 2ms/sample - loss: 0.2390 - val_loss: 0.4095\n",
            "Epoch 22/100\n",
            "96/96 [==============================] - 0s 1ms/sample - loss: 0.2411 - val_loss: 0.2857\n",
            "Epoch 23/100\n",
            "96/96 [==============================] - 0s 2ms/sample - loss: 0.2347 - val_loss: 0.2532\n",
            "Epoch 24/100\n",
            "96/96 [==============================] - 0s 2ms/sample - loss: 0.2344 - val_loss: 0.2282\n",
            "Epoch 25/100\n",
            "96/96 [==============================] - 0s 2ms/sample - loss: 0.2192 - val_loss: 0.2719\n",
            "Epoch 26/100\n",
            "96/96 [==============================] - 0s 2ms/sample - loss: 0.2333 - val_loss: 0.2612\n",
            "Epoch 27/100\n",
            "96/96 [==============================] - 0s 2ms/sample - loss: 0.2217 - val_loss: 0.2249\n",
            "Epoch 28/100\n",
            "96/96 [==============================] - 0s 2ms/sample - loss: 0.2319 - val_loss: 0.3045\n",
            "Epoch 29/100\n",
            "96/96 [==============================] - 0s 2ms/sample - loss: 0.2164 - val_loss: 0.2311\n",
            "Epoch 30/100\n",
            "96/96 [==============================] - 0s 2ms/sample - loss: 0.2264 - val_loss: 0.4042\n",
            "Epoch 31/100\n",
            "96/96 [==============================] - 0s 2ms/sample - loss: 0.2259 - val_loss: 0.2891\n",
            "Epoch 32/100\n",
            "96/96 [==============================] - 0s 1ms/sample - loss: 0.2152 - val_loss: 0.2972\n",
            "Epoch 33/100\n",
            "96/96 [==============================] - 0s 1ms/sample - loss: 0.2072 - val_loss: 0.2917\n",
            "Epoch 34/100\n",
            "96/96 [==============================] - 0s 2ms/sample - loss: 0.1937 - val_loss: 0.2130\n",
            "Epoch 35/100\n",
            "96/96 [==============================] - 0s 1ms/sample - loss: 0.2128 - val_loss: 0.3149\n",
            "Epoch 36/100\n",
            "96/96 [==============================] - 0s 2ms/sample - loss: 0.2109 - val_loss: 0.2137\n",
            "Epoch 37/100\n",
            "96/96 [==============================] - 0s 1ms/sample - loss: 0.2016 - val_loss: 0.2436\n",
            "Epoch 38/100\n",
            "96/96 [==============================] - 0s 2ms/sample - loss: 0.1874 - val_loss: 0.2184\n",
            "Epoch 39/100\n",
            "96/96 [==============================] - 0s 2ms/sample - loss: 0.2035 - val_loss: 0.1922\n",
            "Epoch 40/100\n",
            "96/96 [==============================] - 0s 2ms/sample - loss: 0.1789 - val_loss: 0.2395\n",
            "Epoch 41/100\n",
            "96/96 [==============================] - 0s 2ms/sample - loss: 0.1762 - val_loss: 0.2757\n",
            "Epoch 42/100\n",
            "96/96 [==============================] - 0s 2ms/sample - loss: 0.1926 - val_loss: 0.2985\n",
            "Epoch 43/100\n",
            "96/96 [==============================] - 0s 2ms/sample - loss: 0.2095 - val_loss: 0.3221\n",
            "Epoch 44/100\n",
            "96/96 [==============================] - 0s 2ms/sample - loss: 0.1878 - val_loss: 0.2089\n",
            "Epoch 45/100\n",
            "96/96 [==============================] - 0s 2ms/sample - loss: 0.1712 - val_loss: 0.3354\n",
            "Epoch 46/100\n",
            "96/96 [==============================] - 0s 2ms/sample - loss: 0.1974 - val_loss: 0.2010\n",
            "Epoch 47/100\n",
            "96/96 [==============================] - 0s 2ms/sample - loss: 0.1767 - val_loss: 0.1780\n",
            "Epoch 48/100\n",
            "96/96 [==============================] - 0s 2ms/sample - loss: 0.1603 - val_loss: 0.2347\n",
            "Epoch 49/100\n",
            "96/96 [==============================] - 0s 2ms/sample - loss: 0.1838 - val_loss: 0.1805\n",
            "Epoch 50/100\n",
            "96/96 [==============================] - 0s 2ms/sample - loss: 0.1643 - val_loss: 0.1956\n",
            "Epoch 51/100\n",
            "96/96 [==============================] - 0s 2ms/sample - loss: 0.1604 - val_loss: 0.2149\n",
            "Epoch 52/100\n",
            "96/96 [==============================] - 0s 2ms/sample - loss: 0.1740 - val_loss: 0.1911\n",
            "Epoch 53/100\n",
            "96/96 [==============================] - 0s 2ms/sample - loss: 0.1725 - val_loss: 0.1745\n",
            "Epoch 54/100\n",
            "96/96 [==============================] - 0s 2ms/sample - loss: 0.1630 - val_loss: 0.1859\n",
            "Epoch 55/100\n",
            "96/96 [==============================] - 0s 2ms/sample - loss: 0.1464 - val_loss: 0.1811\n",
            "Epoch 56/100\n",
            "96/96 [==============================] - 0s 2ms/sample - loss: 0.1550 - val_loss: 0.1881\n",
            "Epoch 57/100\n",
            "96/96 [==============================] - 0s 2ms/sample - loss: 0.1572 - val_loss: 0.2092\n",
            "Epoch 58/100\n",
            "96/96 [==============================] - 0s 2ms/sample - loss: 0.1577 - val_loss: 0.1791\n",
            "Epoch 59/100\n",
            "96/96 [==============================] - 0s 2ms/sample - loss: 0.1675 - val_loss: 0.1632\n",
            "Epoch 60/100\n",
            "96/96 [==============================] - 0s 1ms/sample - loss: 0.1641 - val_loss: 0.1847\n",
            "Epoch 61/100\n",
            "96/96 [==============================] - 0s 2ms/sample - loss: 0.1513 - val_loss: 0.1730\n",
            "Epoch 62/100\n",
            "96/96 [==============================] - 0s 2ms/sample - loss: 0.1494 - val_loss: 0.1858\n",
            "Epoch 63/100\n",
            "96/96 [==============================] - 0s 2ms/sample - loss: 0.1514 - val_loss: 0.1686\n",
            "Epoch 64/100\n",
            "96/96 [==============================] - 0s 2ms/sample - loss: 0.1326 - val_loss: 0.1714\n",
            "Epoch 65/100\n",
            "96/96 [==============================] - 0s 1ms/sample - loss: 0.1345 - val_loss: 0.1789\n",
            "Epoch 66/100\n",
            "96/96 [==============================] - 0s 2ms/sample - loss: 0.1319 - val_loss: 0.1632\n",
            "Epoch 67/100\n",
            "96/96 [==============================] - 0s 2ms/sample - loss: 0.1370 - val_loss: 0.1807\n",
            "Epoch 68/100\n",
            "96/96 [==============================] - 0s 2ms/sample - loss: 0.1423 - val_loss: 0.1614\n",
            "Epoch 69/100\n",
            "96/96 [==============================] - 0s 1ms/sample - loss: 0.1327 - val_loss: 0.1696\n",
            "Epoch 70/100\n",
            "96/96 [==============================] - 0s 1ms/sample - loss: 0.1467 - val_loss: 0.1686\n",
            "Epoch 71/100\n",
            "96/96 [==============================] - 0s 1ms/sample - loss: 0.1338 - val_loss: 0.1905\n",
            "Epoch 72/100\n",
            "96/96 [==============================] - 0s 2ms/sample - loss: 0.1365 - val_loss: 0.1499\n",
            "Epoch 73/100\n",
            "96/96 [==============================] - 0s 2ms/sample - loss: 0.1302 - val_loss: 0.1798\n",
            "Epoch 74/100\n",
            "96/96 [==============================] - 0s 2ms/sample - loss: 0.1434 - val_loss: 0.1700\n",
            "Epoch 75/100\n",
            "96/96 [==============================] - 0s 2ms/sample - loss: 0.1313 - val_loss: 0.1671\n",
            "Epoch 76/100\n",
            "96/96 [==============================] - 0s 2ms/sample - loss: 0.1345 - val_loss: 0.1644\n",
            "Epoch 77/100\n",
            "96/96 [==============================] - 0s 2ms/sample - loss: 0.1612 - val_loss: 0.1631\n",
            "Epoch 78/100\n",
            "96/96 [==============================] - 0s 2ms/sample - loss: 0.1383 - val_loss: 0.1687\n",
            "Epoch 79/100\n",
            "96/96 [==============================] - 0s 2ms/sample - loss: 0.1297 - val_loss: 0.2371\n",
            "Epoch 80/100\n",
            "96/96 [==============================] - 0s 2ms/sample - loss: 0.1396 - val_loss: 0.1614\n",
            "Epoch 81/100\n",
            "96/96 [==============================] - 0s 2ms/sample - loss: 0.1489 - val_loss: 0.1581\n",
            "Epoch 82/100\n",
            "96/96 [==============================] - 0s 2ms/sample - loss: 0.1283 - val_loss: 0.1582\n",
            "Epoch 83/100\n",
            "96/96 [==============================] - 0s 2ms/sample - loss: 0.1308 - val_loss: 0.1531\n",
            "Epoch 84/100\n",
            "96/96 [==============================] - 0s 2ms/sample - loss: 0.1223 - val_loss: 0.1614\n",
            "Epoch 85/100\n",
            "96/96 [==============================] - 0s 2ms/sample - loss: 0.1343 - val_loss: 0.1779\n",
            "Epoch 86/100\n",
            "96/96 [==============================] - 0s 2ms/sample - loss: 0.1408 - val_loss: 0.1625\n",
            "Epoch 87/100\n",
            "96/96 [==============================] - 0s 2ms/sample - loss: 0.1276 - val_loss: 0.1571\n",
            "Epoch 88/100\n",
            "96/96 [==============================] - 0s 2ms/sample - loss: 0.1329 - val_loss: 0.1940\n",
            "Epoch 89/100\n",
            "96/96 [==============================] - 0s 2ms/sample - loss: 0.1239 - val_loss: 0.1370\n",
            "Epoch 90/100\n",
            "96/96 [==============================] - 0s 2ms/sample - loss: 0.1269 - val_loss: 0.1729\n",
            "Epoch 91/100\n",
            "96/96 [==============================] - 0s 2ms/sample - loss: 0.1264 - val_loss: 0.1602\n",
            "Epoch 92/100\n",
            "96/96 [==============================] - 0s 2ms/sample - loss: 0.1295 - val_loss: 0.2072\n",
            "Epoch 93/100\n",
            "96/96 [==============================] - 0s 2ms/sample - loss: 0.1332 - val_loss: 0.1700\n",
            "Epoch 94/100\n",
            "96/96 [==============================] - 0s 2ms/sample - loss: 0.1244 - val_loss: 0.1349\n",
            "Epoch 95/100\n",
            "96/96 [==============================] - 0s 2ms/sample - loss: 0.1234 - val_loss: 0.1524\n",
            "Epoch 96/100\n",
            "96/96 [==============================] - 0s 2ms/sample - loss: 0.1349 - val_loss: 0.1651\n",
            "Epoch 97/100\n",
            "96/96 [==============================] - 0s 2ms/sample - loss: 0.1284 - val_loss: 0.1496\n",
            "Epoch 98/100\n",
            "96/96 [==============================] - 0s 2ms/sample - loss: 0.1327 - val_loss: 0.1368\n",
            "Epoch 99/100\n",
            "96/96 [==============================] - 0s 2ms/sample - loss: 0.1181 - val_loss: 0.1678\n",
            "Epoch 100/100\n",
            "96/96 [==============================] - 0s 1ms/sample - loss: 0.1332 - val_loss: 0.1768\n"
          ],
          "name": "stdout"
        },
        {
          "output_type": "execute_result",
          "data": {
            "text/plain": [
              "<tensorflow.python.keras.callbacks.History at 0x7f8abbb75be0>"
            ]
          },
          "metadata": {
            "tags": []
          },
          "execution_count": 17
        }
      ]
    },
    {
      "cell_type": "code",
      "metadata": {
        "id": "ke48v-Am2Jsz",
        "colab_type": "code",
        "outputId": "914fad7b-c2ee-42cf-e29b-bb7ca2169a83",
        "colab": {
          "base_uri": "https://localhost:8080/",
          "height": 336
        }
      },
      "source": [
        "# Plot loss (The object MLP keeps track of the training and validation performance)\n",
        "plt.figure(figsize=(12, 5))\n",
        "plt.plot(MLP.history.history['loss'], label='Training', linewidth=2)\n",
        "plt.plot(MLP.history.history['val_loss'], label='Validation', linewidth=2)\n",
        "plt.legend()\n",
        "plt.xlabel('Epoch')\n",
        "plt.ylabel('Loss')\n",
        "plt.grid(True)\n",
        "plt.show()"
      ],
      "execution_count": 0,
      "outputs": [
        {
          "output_type": "display_data",
          "data": {
            "image/png": "[encoded data removed]",
            "text/plain": [
              "<Figure size 864x360 with 1 Axes>"
            ]
          },
          "metadata": {
            "tags": []
          }
        }
      ]
    },
    {
      "cell_type": "code",
      "metadata": {
        "id": "pE6qPetP2ywl",
        "colab_type": "code",
        "outputId": "041fdc0e-9bba-4111-c627-87265612e717",
        "colab": {
          "base_uri": "https://localhost:8080/",
          "height": 90
        }
      },
      "source": [
        "# Obtain weights and biases of the hidden layer\n",
        "for layer in MLP.layers[1:]:\n",
        "  w, b = layer.get_weights()\n",
        "  print(\"Weights: \", w.shape, end='\\t')\n",
        "  #print(w)\n",
        "  print(\"Biases:  \", b.shape)\n",
        "  #print(b)"
      ],
      "execution_count": 0,
      "outputs": [
        {
          "output_type": "stream",
          "text": [
            "Weights:  (2, 32)\tBiases:   (32,)\n",
            "Weights:  (32, 16)\tBiases:   (16,)\n",
            "Weights:  (16, 8)\tBiases:   (8,)\n",
            "Weights:  (8, 2)\tBiases:   (2,)\n"
          ],
          "name": "stdout"
        }
      ]
    },
    {
      "cell_type": "code",
      "metadata": {
        "id": "PcSe0ybzbWM7",
        "colab_type": "code",
        "outputId": "6da4fb88-7790-40e1-ce92-4af10105d24e",
        "colab": {
          "base_uri": "https://localhost:8080/",
          "height": 35
        }
      },
      "source": [
        "# Use the trained model to compute the average test loss\n",
        "MLP.evaluate(x=x_test, y=y_test, verbose=False)"
      ],
      "execution_count": 0,
      "outputs": [
        {
          "output_type": "execute_result",
          "data": {
            "text/plain": [
              "0.20249246060848236"
            ]
          },
          "metadata": {
            "tags": []
          },
          "execution_count": 29
        }
      ]
    },
    {
      "cell_type": "code",
      "metadata": {
        "id": "WgIBxyqobWNA",
        "colab_type": "code",
        "outputId": "9af41ee6-9860-4b2b-a8fe-b9df6a0849e9",
        "colab": {
          "base_uri": "https://localhost:8080/",
          "height": 35
        }
      },
      "source": [
        "# Now generate the predictions on the test set\n",
        "y_test_hat = MLP.predict(x=x_test)\n",
        "print(y_test_hat.shape)"
      ],
      "execution_count": 0,
      "outputs": [
        {
          "output_type": "stream",
          "text": [
            "(30, 2)\n"
          ],
          "name": "stdout"
        }
      ]
    },
    {
      "cell_type": "code",
      "metadata": {
        "id": "fgU_z-yiRus-",
        "colab_type": "code",
        "outputId": "b6cb0102-913e-48d2-f757-d93c094f1425",
        "colab": {
          "base_uri": "https://localhost:8080/",
          "height": 295
        }
      },
      "source": [
        "# Plot y_test_hat\n",
        "plt.scatter(y_test[l_test==0, 0], y_test[l_test==0, 1], c='b', label='set y')\n",
        "plt.scatter(y_test[l_test==1, 0], y_test[l_test==1, 1], c='r', label='ver y')\n",
        "plt.scatter(y_test[l_test==2, 0], y_test[l_test==2, 1], c='g', label='vir y')\n",
        "\n",
        "plt.scatter(y_test_hat[l_test==0, 0], y_test_hat[l_test==0, 1], c='b', marker='+', label='set y_h')\n",
        "plt.scatter(y_test_hat[l_test==1, 0], y_test_hat[l_test==1, 1], c='r', marker='+', label='ver y_h')\n",
        "plt.scatter(y_test_hat[l_test==2, 0], y_test_hat[l_test==2, 1], c='g', marker='+', label='vir y_h')\n",
        "\n",
        "plt.legend()\n",
        "plt.grid(True)\n",
        "plt.xlabel('sepal length')\n",
        "plt.ylabel('sepal width')\n",
        "plt.title('Test set and its prediction')\n",
        "plt.show()"
      ],
      "execution_count": 0,
      "outputs": [
        {
          "output_type": "display_data",
          "data": {
            "image/png": "[encoded data removed]",
            "text/plain": [
              "<Figure size 432x288 with 1 Axes>"
            ]
          },
          "metadata": {
            "tags": []
          }
        }
      ]
    },
    {
      "cell_type": "code",
      "metadata": {
        "id": "ostTTvo_7A6q",
        "colab_type": "code",
        "colab": {}
      },
      "source": [
        "# Auxiliar function to create an MLP\n",
        "def create_MLP(n_units=[2, 1], activations=None, last_activation=None):\n",
        "  h = i = Input(shape=(n_units[0]))\n",
        "  for units in n_units[1:-1]:\n",
        "    h = Dense(units=units, activation=activations)(h)\n",
        "  o = Dense(units=n_units[-1], activation=last_activation)(h)\n",
        "  return Model(inputs=i, outputs=o)"
      ],
      "execution_count": 0,
      "outputs": []
    },
    {
      "cell_type": "code",
      "metadata": {
        "id": "zN_Vj0e2568J",
        "colab_type": "code",
        "outputId": "3272169f-3269-485c-ea74-7eca7bd3b693",
        "colab": {
          "base_uri": "https://localhost:8080/",
          "height": 219
        }
      },
      "source": [
        "# Corre el experimento 100 veces y registra el desempeño promedio y el tiempo de ejecución\n",
        "loss = np.zeros((10, 2))\n",
        "for ind in range(10):\n",
        "  MLP = create_MLP([2, 32, 16, 8, 2], activations='relu', last_activation='relu')\n",
        "  MLP.compile(optimizer='adam', loss='mse')\n",
        "  MLP.fit(x=x_train, y=y_train, batch_size=1, epochs=100, verbose=0, validation_split=0.2)\n",
        "  loss[ind, 0] = MLP.evaluate(x=x_train, y=y_train, verbose=False)\n",
        "  loss[ind, 1] = MLP.evaluate(x=x_test, y=y_test, verbose=False)\n",
        "  print(f\"Run {ind+1:3d} -- \", end='')\n",
        "  print(f\"Train loss: {loss[ind, 0]:6.4f}\", end='; ')\n",
        "  print(f\"Test loss: {loss[ind, 1]:6.4f}\")\n",
        "\n",
        "print(\"Average -- \", end='')\n",
        "print(f\" train loss: {loss[:, 0].mean():6.4f} +- {loss[:, 0].std():6.4f}\", end='; ')\n",
        "print(f\" test loss: {loss[:, 1].mean():6.4f} +- {loss[:, 1].std():6.4f}\")"
      ],
      "execution_count": 0,
      "outputs": [
        {
          "output_type": "stream",
          "text": [
            "Run   1 -- Train loss: 0.1099; Test loss: 0.2024\n",
            "Run   2 -- Train loss: 0.1155; Test loss: 0.2131\n",
            "Run   3 -- Train loss: 1.0347; Test loss: 1.3563\n",
            "Run   4 -- Train loss: 1.0327; Test loss: 1.3583\n",
            "Run   5 -- Train loss: 8.4225; Test loss: 9.6117\n",
            "Run   6 -- Train loss: 0.1171; Test loss: 0.2024\n",
            "Run   7 -- Train loss: 0.1813; Test loss: 0.2477\n",
            "Run   8 -- Train loss: 0.1480; Test loss: 0.2120\n",
            "Run   9 -- Train loss: 0.1705; Test loss: 0.2087\n",
            "Run  10 -- Train loss: 0.1331; Test loss: 0.2182\n",
            "Average --  train loss: 1.1465 +- 2.4509;  test loss: 1.3831 +- 2.7797\n"
          ],
          "name": "stdout"
        }
      ]
    },
    {
      "cell_type": "code",
      "metadata": {
        "id": "9tjN--xD7TsX",
        "colab_type": "code",
        "colab": {}
      },
      "source": [
        ""
      ],
      "execution_count": 0,
      "outputs": []
    }
  ]
}