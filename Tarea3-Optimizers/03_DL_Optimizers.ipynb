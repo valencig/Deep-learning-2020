{
  "nbformat": 4,
  "nbformat_minor": 0,
  "metadata": {
    "colab": {
      "name": "03_DL_Optimizers.ipynb",
      "provenance": [],
      "collapsed_sections": []
    },
    "kernelspec": {
      "name": "python3",
      "display_name": "Python 3"
    },
    "accelerator": "GPU"
  },
  "cells": [
    {
      "cell_type": "code",
      "metadata": {
        "id": "auaqKUAuFRwJ",
        "colab_type": "code",
        "colab": {}
      },
      "source": [
        "import numpy as np\n",
        "import pandas as pd\n",
        "import matplotlib.pyplot as plt"
      ],
      "execution_count": 0,
      "outputs": []
    },
    {
      "cell_type": "code",
      "metadata": {
        "id": "R7BOD99kHvAZ",
        "colab_type": "code",
        "colab": {}
      },
      "source": [
        "# Usaremos la base de datos: Beijing Multi-Site Air-Quality Data Data Set,\n",
        "# la cual puede ser obtenida desde https://archive.ics.uci.edu/ml/datasets/Beijing+Multi-Site+Air-Quality+Data\n",
        "# (revisar la página para más detalles sobre los datos)\n",
        "# Se ha proporcionado un archivo csv con la información obtenida de la estación\n",
        "# de monitoreo Aotizhongxin, el cual contiene 35,064 registros.\n",
        "\n",
        "# El objetivo es poder predecir la concetración de PM2.5 y de PM10 a partir de las\n",
        "# variables año, mes, día, hora, temperatura, presión, punto de rocío, \n",
        "# precipitación y velocidad del viento."
      ],
      "execution_count": 0,
      "outputs": []
    },
    {
      "cell_type": "markdown",
      "metadata": {
        "id": "oN6aBWNOWrY7",
        "colab_type": "text"
      },
      "source": [
        "# Part 1: Load data into Colab"
      ]
    },
    {
      "cell_type": "code",
      "metadata": {
        "id": "kB4uTQwSFkVr",
        "colab_type": "code",
        "outputId": "bbfc949d-e0b7-40ca-dba4-c7a677068d80",
        "colab": {
          "resources": {
            "http://localhost:8080/nbextensions/google.colab/files.js": {
              "data": "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",
              "ok": true,
              "headers": [
                [
                  "content-type",
                  "application/javascript"
                ]
              ],
              "status": 200,
              "status_text": "OK"
            }
          },
          "base_uri": "https://localhost:8080/",
          "height": 84
        }
      },
      "source": [
        "# Requiered to select a file to be imported\n",
        "from google.colab import files\n",
        "uploaded = files.upload()"
      ],
      "execution_count": 3,
      "outputs": [
        {
          "output_type": "display_data",
          "data": {
            "text/html": [
              "\n",
              "     <input type=\"file\" id=\"files-5fa216aa-b174-49b0-8701-0320bb56b40c\" name=\"files[]\" multiple disabled />\n",
              "     <output id=\"result-5fa216aa-b174-49b0-8701-0320bb56b40c\">\n",
              "      Upload widget is only available when the cell has been executed in the\n",
              "      current browser session. Please rerun this cell to enable.\n",
              "      </output>\n",
              "      <script src=\"/nbextensions/google.colab/files.js\"></script> "
            ],
            "text/plain": [
              "<IPython.core.display.HTML object>"
            ]
          },
          "metadata": {
            "tags": []
          }
        },
        {
          "output_type": "stream",
          "text": [
            "Saving PRSA_Aotizhongxin.csv to PRSA_Aotizhongxin.csv\n"
          ],
          "name": "stdout"
        }
      ]
    },
    {
      "cell_type": "code",
      "metadata": {
        "id": "JwhYkkpoGG8y",
        "colab_type": "code",
        "outputId": "fecb83c4-bdf0-441f-96b3-64f296cc86d6",
        "colab": {
          "base_uri": "https://localhost:8080/",
          "height": 424
        }
      },
      "source": [
        "# Import file and store it in a data frame\n",
        "import io\n",
        "df = pd.read_csv(io.BytesIO(uploaded['PRSA_Aotizhongxin.csv'])) # Cambia al nombre del archivo que cargues\n",
        "df.dropna(inplace=True)\n",
        "df\n",
        "# Quedan 31,815 registros despues de eliminar NaN's"
      ],
      "execution_count": 4,
      "outputs": [
        {
          "output_type": "execute_result",
          "data": {
            "text/html": [
              "<div>\n",
              "<style scoped>\n",
              "    .dataframe tbody tr th:only-of-type {\n",
              "        vertical-align: middle;\n",
              "    }\n",
              "\n",
              "    .dataframe tbody tr th {\n",
              "        vertical-align: top;\n",
              "    }\n",
              "\n",
              "    .dataframe thead th {\n",
              "        text-align: right;\n",
              "    }\n",
              "</style>\n",
              "<table border=\"1\" class=\"dataframe\">\n",
              "  <thead>\n",
              "    <tr style=\"text-align: right;\">\n",
              "      <th></th>\n",
              "      <th>No</th>\n",
              "      <th>year</th>\n",
              "      <th>month</th>\n",
              "      <th>day</th>\n",
              "      <th>hour</th>\n",
              "      <th>PM2.5</th>\n",
              "      <th>PM10</th>\n",
              "      <th>SO2</th>\n",
              "      <th>NO2</th>\n",
              "      <th>CO</th>\n",
              "      <th>O3</th>\n",
              "      <th>TEMP</th>\n",
              "      <th>PRES</th>\n",
              "      <th>DEWP</th>\n",
              "      <th>RAIN</th>\n",
              "      <th>wd</th>\n",
              "      <th>WSPM</th>\n",
              "      <th>station</th>\n",
              "    </tr>\n",
              "  </thead>\n",
              "  <tbody>\n",
              "    <tr>\n",
              "      <th>0</th>\n",
              "      <td>1</td>\n",
              "      <td>2013</td>\n",
              "      <td>3</td>\n",
              "      <td>1</td>\n",
              "      <td>0</td>\n",
              "      <td>4.0</td>\n",
              "      <td>4.0</td>\n",
              "      <td>4.0</td>\n",
              "      <td>7.0</td>\n",
              "      <td>300.0</td>\n",
              "      <td>77.0</td>\n",
              "      <td>-0.7</td>\n",
              "      <td>1023.0</td>\n",
              "      <td>-18.8</td>\n",
              "      <td>0.0</td>\n",
              "      <td>NNW</td>\n",
              "      <td>4.4</td>\n",
              "      <td>Aotizhongxin</td>\n",
              "    </tr>\n",
              "    <tr>\n",
              "      <th>1</th>\n",
              "      <td>2</td>\n",
              "      <td>2013</td>\n",
              "      <td>3</td>\n",
              "      <td>1</td>\n",
              "      <td>1</td>\n",
              "      <td>8.0</td>\n",
              "      <td>8.0</td>\n",
              "      <td>4.0</td>\n",
              "      <td>7.0</td>\n",
              "      <td>300.0</td>\n",
              "      <td>77.0</td>\n",
              "      <td>-1.1</td>\n",
              "      <td>1023.2</td>\n",
              "      <td>-18.2</td>\n",
              "      <td>0.0</td>\n",
              "      <td>N</td>\n",
              "      <td>4.7</td>\n",
              "      <td>Aotizhongxin</td>\n",
              "    </tr>\n",
              "    <tr>\n",
              "      <th>2</th>\n",
              "      <td>3</td>\n",
              "      <td>2013</td>\n",
              "      <td>3</td>\n",
              "      <td>1</td>\n",
              "      <td>2</td>\n",
              "      <td>7.0</td>\n",
              "      <td>7.0</td>\n",
              "      <td>5.0</td>\n",
              "      <td>10.0</td>\n",
              "      <td>300.0</td>\n",
              "      <td>73.0</td>\n",
              "      <td>-1.1</td>\n",
              "      <td>1023.5</td>\n",
              "      <td>-18.2</td>\n",
              "      <td>0.0</td>\n",
              "      <td>NNW</td>\n",
              "      <td>5.6</td>\n",
              "      <td>Aotizhongxin</td>\n",
              "    </tr>\n",
              "    <tr>\n",
              "      <th>3</th>\n",
              "      <td>4</td>\n",
              "      <td>2013</td>\n",
              "      <td>3</td>\n",
              "      <td>1</td>\n",
              "      <td>3</td>\n",
              "      <td>6.0</td>\n",
              "      <td>6.0</td>\n",
              "      <td>11.0</td>\n",
              "      <td>11.0</td>\n",
              "      <td>300.0</td>\n",
              "      <td>72.0</td>\n",
              "      <td>-1.4</td>\n",
              "      <td>1024.5</td>\n",
              "      <td>-19.4</td>\n",
              "      <td>0.0</td>\n",
              "      <td>NW</td>\n",
              "      <td>3.1</td>\n",
              "      <td>Aotizhongxin</td>\n",
              "    </tr>\n",
              "    <tr>\n",
              "      <th>4</th>\n",
              "      <td>5</td>\n",
              "      <td>2013</td>\n",
              "      <td>3</td>\n",
              "      <td>1</td>\n",
              "      <td>4</td>\n",
              "      <td>3.0</td>\n",
              "      <td>3.0</td>\n",
              "      <td>12.0</td>\n",
              "      <td>12.0</td>\n",
              "      <td>300.0</td>\n",
              "      <td>72.0</td>\n",
              "      <td>-2.0</td>\n",
              "      <td>1025.2</td>\n",
              "      <td>-19.5</td>\n",
              "      <td>0.0</td>\n",
              "      <td>N</td>\n",
              "      <td>2.0</td>\n",
              "      <td>Aotizhongxin</td>\n",
              "    </tr>\n",
              "    <tr>\n",
              "      <th>...</th>\n",
              "      <td>...</td>\n",
              "      <td>...</td>\n",
              "      <td>...</td>\n",
              "      <td>...</td>\n",
              "      <td>...</td>\n",
              "      <td>...</td>\n",
              "      <td>...</td>\n",
              "      <td>...</td>\n",
              "      <td>...</td>\n",
              "      <td>...</td>\n",
              "      <td>...</td>\n",
              "      <td>...</td>\n",
              "      <td>...</td>\n",
              "      <td>...</td>\n",
              "      <td>...</td>\n",
              "      <td>...</td>\n",
              "      <td>...</td>\n",
              "      <td>...</td>\n",
              "    </tr>\n",
              "    <tr>\n",
              "      <th>35059</th>\n",
              "      <td>35060</td>\n",
              "      <td>2017</td>\n",
              "      <td>2</td>\n",
              "      <td>28</td>\n",
              "      <td>19</td>\n",
              "      <td>12.0</td>\n",
              "      <td>29.0</td>\n",
              "      <td>5.0</td>\n",
              "      <td>35.0</td>\n",
              "      <td>400.0</td>\n",
              "      <td>95.0</td>\n",
              "      <td>12.5</td>\n",
              "      <td>1013.5</td>\n",
              "      <td>-16.2</td>\n",
              "      <td>0.0</td>\n",
              "      <td>NW</td>\n",
              "      <td>2.4</td>\n",
              "      <td>Aotizhongxin</td>\n",
              "    </tr>\n",
              "    <tr>\n",
              "      <th>35060</th>\n",
              "      <td>35061</td>\n",
              "      <td>2017</td>\n",
              "      <td>2</td>\n",
              "      <td>28</td>\n",
              "      <td>20</td>\n",
              "      <td>13.0</td>\n",
              "      <td>37.0</td>\n",
              "      <td>7.0</td>\n",
              "      <td>45.0</td>\n",
              "      <td>500.0</td>\n",
              "      <td>81.0</td>\n",
              "      <td>11.6</td>\n",
              "      <td>1013.6</td>\n",
              "      <td>-15.1</td>\n",
              "      <td>0.0</td>\n",
              "      <td>WNW</td>\n",
              "      <td>0.9</td>\n",
              "      <td>Aotizhongxin</td>\n",
              "    </tr>\n",
              "    <tr>\n",
              "      <th>35061</th>\n",
              "      <td>35062</td>\n",
              "      <td>2017</td>\n",
              "      <td>2</td>\n",
              "      <td>28</td>\n",
              "      <td>21</td>\n",
              "      <td>16.0</td>\n",
              "      <td>37.0</td>\n",
              "      <td>10.0</td>\n",
              "      <td>66.0</td>\n",
              "      <td>700.0</td>\n",
              "      <td>58.0</td>\n",
              "      <td>10.8</td>\n",
              "      <td>1014.2</td>\n",
              "      <td>-13.3</td>\n",
              "      <td>0.0</td>\n",
              "      <td>NW</td>\n",
              "      <td>1.1</td>\n",
              "      <td>Aotizhongxin</td>\n",
              "    </tr>\n",
              "    <tr>\n",
              "      <th>35062</th>\n",
              "      <td>35063</td>\n",
              "      <td>2017</td>\n",
              "      <td>2</td>\n",
              "      <td>28</td>\n",
              "      <td>22</td>\n",
              "      <td>21.0</td>\n",
              "      <td>44.0</td>\n",
              "      <td>12.0</td>\n",
              "      <td>87.0</td>\n",
              "      <td>700.0</td>\n",
              "      <td>35.0</td>\n",
              "      <td>10.5</td>\n",
              "      <td>1014.4</td>\n",
              "      <td>-12.9</td>\n",
              "      <td>0.0</td>\n",
              "      <td>NNW</td>\n",
              "      <td>1.2</td>\n",
              "      <td>Aotizhongxin</td>\n",
              "    </tr>\n",
              "    <tr>\n",
              "      <th>35063</th>\n",
              "      <td>35064</td>\n",
              "      <td>2017</td>\n",
              "      <td>2</td>\n",
              "      <td>28</td>\n",
              "      <td>23</td>\n",
              "      <td>19.0</td>\n",
              "      <td>31.0</td>\n",
              "      <td>10.0</td>\n",
              "      <td>79.0</td>\n",
              "      <td>600.0</td>\n",
              "      <td>42.0</td>\n",
              "      <td>8.6</td>\n",
              "      <td>1014.1</td>\n",
              "      <td>-15.9</td>\n",
              "      <td>0.0</td>\n",
              "      <td>NNE</td>\n",
              "      <td>1.3</td>\n",
              "      <td>Aotizhongxin</td>\n",
              "    </tr>\n",
              "  </tbody>\n",
              "</table>\n",
              "<p>31815 rows × 18 columns</p>\n",
              "</div>"
            ],
            "text/plain": [
              "          No  year  month  day  hour  ...  DEWP  RAIN   wd  WSPM       station\n",
              "0          1  2013      3    1     0  ... -18.8   0.0  NNW   4.4  Aotizhongxin\n",
              "1          2  2013      3    1     1  ... -18.2   0.0    N   4.7  Aotizhongxin\n",
              "2          3  2013      3    1     2  ... -18.2   0.0  NNW   5.6  Aotizhongxin\n",
              "3          4  2013      3    1     3  ... -19.4   0.0   NW   3.1  Aotizhongxin\n",
              "4          5  2013      3    1     4  ... -19.5   0.0    N   2.0  Aotizhongxin\n",
              "...      ...   ...    ...  ...   ...  ...   ...   ...  ...   ...           ...\n",
              "35059  35060  2017      2   28    19  ... -16.2   0.0   NW   2.4  Aotizhongxin\n",
              "35060  35061  2017      2   28    20  ... -15.1   0.0  WNW   0.9  Aotizhongxin\n",
              "35061  35062  2017      2   28    21  ... -13.3   0.0   NW   1.1  Aotizhongxin\n",
              "35062  35063  2017      2   28    22  ... -12.9   0.0  NNW   1.2  Aotizhongxin\n",
              "35063  35064  2017      2   28    23  ... -15.9   0.0  NNE   1.3  Aotizhongxin\n",
              "\n",
              "[31815 rows x 18 columns]"
            ]
          },
          "metadata": {
            "tags": []
          },
          "execution_count": 4
        }
      ]
    },
    {
      "cell_type": "markdown",
      "metadata": {
        "id": "7AnH6VY-W09n",
        "colab_type": "text"
      },
      "source": [
        "# Part 2: Format data and split it into numpy arrays"
      ]
    },
    {
      "cell_type": "code",
      "metadata": {
        "id": "OaRBLIHNdrSN",
        "colab_type": "code",
        "colab": {}
      },
      "source": [
        "# AUX function to put categorical data into one-hot encoding format\n",
        "from sklearn.preprocessing import OneHotEncoder\n",
        "def winddir_to_categorical(winddir):\n",
        "  enc = OneHotEncoder(sparse=False)\n",
        "  WD = enc.fit_transform(winddir)\n",
        "  print(\"== categories:\", enc.categories_, \"==\")\n",
        "  return WD"
      ],
      "execution_count": 0,
      "outputs": []
    },
    {
      "cell_type": "code",
      "metadata": {
        "id": "dFhZ5cEGSk2e",
        "colab_type": "code",
        "outputId": "2e405403-0e2a-4363-e36c-6adda4fdacd3",
        "colab": {
          "base_uri": "https://localhost:8080/",
          "height": 706
        }
      },
      "source": [
        "# Extract input features and convert them to a numpy array\n",
        "X = df[['year', 'month', 'day', 'hour', 'TEMP', 'PRES', 'DEWP', 'RAIN', 'WSPM' ]].to_numpy()\n",
        "WD = winddir_to_categorical(df[['wd']])\n",
        "X = np.concatenate((X, WD), axis=1)\n",
        "\n",
        "print(f\"Input values X with shape {X.shape}. With values\")\n",
        "\n",
        "\n",
        "print(f\" min = {X.min(axis=0)}\")\n",
        "print(f\" mean = {X.mean(axis=0)}\")\n",
        "print(f\" stdd = {X.std(axis=0)}\")\n",
        "print(f\" max = {X.max(axis=0)}\")\n",
        "\n",
        "plt.boxplot(X)\n",
        "plt.show()"
      ],
      "execution_count": 6,
      "outputs": [
        {
          "output_type": "stream",
          "text": [
            "== categories: [array(['E', 'ENE', 'ESE', 'N', 'NE', 'NNE', 'NNW', 'NW', 'S', 'SE', 'SSE',\n",
            "       'SSW', 'SW', 'W', 'WNW', 'WSW'], dtype=object)] ==\n",
            "Input values X with shape (31815, 25). With values\n",
            " min = [ 2.013e+03  1.000e+00  1.000e+00  0.000e+00 -1.680e+01  9.859e+02\n",
            " -3.530e+01  0.000e+00  0.000e+00  0.000e+00  0.000e+00  0.000e+00\n",
            "  0.000e+00  0.000e+00  0.000e+00  0.000e+00  0.000e+00  0.000e+00\n",
            "  0.000e+00  0.000e+00  0.000e+00  0.000e+00  0.000e+00  0.000e+00\n",
            "  0.000e+00]\n",
            " mean = [2.01471491e+03 6.40188590e+00 1.55785636e+01 1.16247996e+01\n",
            " 1.37756108e+01 1.01180038e+03 3.24110640e+00 6.82351092e-02\n",
            " 1.72047148e+00 7.51532296e-02 1.12619833e-01 5.05421971e-02\n",
            " 5.86830112e-02 1.43988685e-01 6.99984284e-02 4.45073079e-02\n",
            " 5.37482320e-02 3.81581015e-02 3.91010530e-02 2.96715386e-02\n",
            " 6.03488920e-02 9.57724344e-02 3.36005029e-02 3.14002829e-02\n",
            " 6.27062706e-02]\n",
            " stdd = [ 1.16251735  3.41679338  8.79481542  6.92676545 11.36885668 10.33870697\n",
            " 13.66764783  0.83747595  1.20422141  0.26363843  0.31612752  0.21906091\n",
            "  0.23503046  0.35107826  0.25514437  0.20621932  0.2255202   0.19157782\n",
            "  0.1938354   0.16967952  0.23813211  0.29427891  0.18019853  0.17439698\n",
            "  0.2424339 ]\n",
            " max = [2.017e+03 1.200e+01 3.100e+01 2.300e+01 4.050e+01 1.042e+03 2.850e+01\n",
            " 4.640e+01 1.120e+01 1.000e+00 1.000e+00 1.000e+00 1.000e+00 1.000e+00\n",
            " 1.000e+00 1.000e+00 1.000e+00 1.000e+00 1.000e+00 1.000e+00 1.000e+00\n",
            " 1.000e+00 1.000e+00 1.000e+00 1.000e+00]\n"
          ],
          "name": "stdout"
        },
        {
          "output_type": "display_data",
          "data": {
            "image/png": "[encoded data removed]",
            "text/plain": [
              "<Figure size 432x288 with 1 Axes>"
            ]
          },
          "metadata": {
            "tags": []
          }
        }
      ]
    },
    {
      "cell_type": "code",
      "metadata": {
        "id": "MwImDcVGg5O7",
        "colab_type": "code",
        "outputId": "23400a15-af34-45ad-9a8b-fcf52752ad55",
        "colab": {
          "base_uri": "https://localhost:8080/",
          "height": 743
        }
      },
      "source": [
        "# Normalize (zero-center) and standardize (scale) input data\n",
        "from sklearn.preprocessing import StandardScaler\n",
        "scalerX = StandardScaler()\n",
        "X = scalerX.fit_transform(X)\n",
        "print(scalerX.mean_)\n",
        "\n",
        "print(f\" min = {X.min(axis=0)}\")\n",
        "print(f\" mean = {X.mean(axis=0)}\")\n",
        "print(f\" stdd = {X.std(axis=0)}\")\n",
        "print(f\" max = {X.max(axis=0)}\")\n",
        "\n",
        "plt.boxplot(X)\n",
        "plt.show()"
      ],
      "execution_count": 7,
      "outputs": [
        {
          "output_type": "stream",
          "text": [
            "[2.01471491e+03 6.40188590e+00 1.55785636e+01 1.16247996e+01\n",
            " 1.37756108e+01 1.01180038e+03 3.24110640e+00 6.82351092e-02\n",
            " 1.72047148e+00 7.51532296e-02 1.12619833e-01 5.05421971e-02\n",
            " 5.86830112e-02 1.43988685e-01 6.99984284e-02 4.45073079e-02\n",
            " 5.37482320e-02 3.81581015e-02 3.91010530e-02 2.96715386e-02\n",
            " 6.03488920e-02 9.57724344e-02 3.36005029e-02 3.14002829e-02\n",
            " 6.27062706e-02]\n",
            " min = [-1.47517312 -1.58098114 -1.65763156 -1.67824358 -2.68941826 -2.50518608\n",
            " -2.81987851 -0.0814771  -1.42870029 -0.28506174 -0.35624812 -0.23072212\n",
            " -0.24968258 -0.41013273 -0.27434832 -0.21582511 -0.23833001 -0.19917808\n",
            " -0.20172298 -0.17486812 -0.2534261  -0.32544784 -0.1864638  -0.18005062\n",
            " -0.25865307]\n",
            " mean = [ 2.53620974e-13 -5.20961380e-15 -1.40856471e-15 -1.27022216e-17\n",
            " -1.02426039e-14 -1.09446446e-12 -5.83953233e-16  2.22055074e-15\n",
            "  1.58522417e-14  1.72582712e-14 -4.05981498e-15  1.36230193e-14\n",
            "  1.06470074e-14 -1.71220957e-14 -1.80721207e-14  1.59185533e-15\n",
            " -1.52863037e-14 -9.66857167e-16 -1.04650289e-14 -9.16496697e-17\n",
            "  7.44947610e-15 -1.07559691e-14 -7.01441105e-15 -7.47533943e-15\n",
            " -1.16311731e-14]\n",
            " stdd = [1. 1. 1. 1. 1. 1. 1. 1. 1. 1. 1. 1. 1. 1. 1. 1. 1. 1. 1. 1. 1. 1. 1. 1.\n",
            " 1.]\n",
            " max = [ 1.96563574  1.63841165  1.75346903  1.64220955  2.35066639  2.92102439\n",
            "  1.84807905 55.32309879  7.87191495  3.50801198  2.80703236  4.33421824\n",
            "  4.00508514  2.43823505  3.64500138  4.63338109  4.19586262  5.02063288\n",
            "  4.9572935   5.71859515  3.94592353  3.07268902  5.36297113  5.55399377\n",
            "  3.86618267]\n"
          ],
          "name": "stdout"
        },
        {
          "output_type": "display_data",
          "data": {
            "image/png": "[encoded data removed]",
            "text/plain": [
              "<Figure size 432x288 with 1 Axes>"
            ]
          },
          "metadata": {
            "tags": []
          }
        }
      ]
    },
    {
      "cell_type": "code",
      "metadata": {
        "id": "dA2VIaEEHGwA",
        "colab_type": "code",
        "outputId": "1286c912-8e18-4a1e-c017-122482e39169",
        "colab": {
          "base_uri": "https://localhost:8080/",
          "height": 357
        }
      },
      "source": [
        "# Extract output features and convert them to a numpy array\n",
        "Y = df[['PM2.5', 'NO2']].to_numpy()\n",
        "\n",
        "print(f\"Target values Y with shape {Y.shape}. With values\")\n",
        "print(f\" min = {Y.min(axis=0)}\")\n",
        "print(f\" mean = {Y.mean(axis=0)}\")\n",
        "print(f\" stdd = {Y.std(axis=0)}\")\n",
        "print(f\" max = {Y.max(axis=0)}\")\n",
        "\n",
        "plt.boxplot(Y)\n",
        "plt.show()"
      ],
      "execution_count": 9,
      "outputs": [
        {
          "output_type": "stream",
          "text": [
            "Target values Y with shape (31815, 2). With values\n",
            " min = [3. 2.]\n",
            " mean = [81.86363036 58.97633192]\n",
            " stdd = [80.44822547 37.06080184]\n",
            " max = [713. 290.]\n"
          ],
          "name": "stdout"
        },
        {
          "output_type": "display_data",
          "data": {
            "image/png": "[encoded data removed]",
            "text/plain": [
              "<Figure size 432x288 with 1 Axes>"
            ]
          },
          "metadata": {
            "tags": []
          }
        }
      ]
    },
    {
      "cell_type": "code",
      "metadata": {
        "id": "d4nkvcV3MmC9",
        "colab_type": "code",
        "outputId": "02b740cb-24f2-42da-fec2-be6f4b2a6c6f",
        "colab": {
          "base_uri": "https://localhost:8080/",
          "height": 357
        }
      },
      "source": [
        "# Normalize (zero-center) and standardize (scale) output data\n",
        "scalerY = StandardScaler()\n",
        "Y = scalerY.fit_transform(Y)\n",
        "print(scalerY.mean_)\n",
        "\n",
        "print(f\" min = {Y.min(axis=0)}\")\n",
        "print(f\" mean = {Y.mean(axis=0)}\")\n",
        "print(f\" stdd = {Y.std(axis=0)}\")\n",
        "print(f\" max = {Y.max(axis=0)}\")\n",
        "\n",
        "plt.boxplot(Y)\n",
        "plt.show()"
      ],
      "execution_count": 10,
      "outputs": [
        {
          "output_type": "stream",
          "text": [
            "[81.86363036 58.97633192]\n",
            " min = [-0.98030292 -1.53737451]\n",
            " mean = [-3.21603501e-17  1.42934889e-17]\n",
            " stdd = [1. 1.]\n",
            " max = [7.84524911 6.23363923]\n"
          ],
          "name": "stdout"
        },
        {
          "output_type": "display_data",
          "data": {
            "image/png": "[encoded data removed]",
            "text/plain": [
              "<Figure size 432x288 with 1 Axes>"
            ]
          },
          "metadata": {
            "tags": []
          }
        }
      ]
    },
    {
      "cell_type": "code",
      "metadata": {
        "id": "zAKGr2d4W_OU",
        "colab_type": "code",
        "outputId": "cbbe5c8d-d8dd-4ce3-e835-9f27a5edbfc7",
        "colab": {
          "base_uri": "https://localhost:8080/",
          "height": 90
        }
      },
      "source": [
        "# Split data into train+val and test sets\n",
        "from sklearn.model_selection import train_test_split\n",
        "x_train, x_test, y_train, y_test = train_test_split(X, Y, test_size=0.05)\n",
        "\n",
        "print(x_train.shape)\n",
        "print(y_train.shape)\n",
        "print(x_test.shape)\n",
        "print(y_test.shape)"
      ],
      "execution_count": 13,
      "outputs": [
        {
          "output_type": "stream",
          "text": [
            "(30224, 25)\n",
            "(30224, 2)\n",
            "(1591, 25)\n",
            "(1591, 2)\n"
          ],
          "name": "stdout"
        }
      ]
    },
    {
      "cell_type": "code",
      "metadata": {
        "id": "7dQRDsU4znyI",
        "colab_type": "code",
        "outputId": "85b5f7bc-63a0-42a1-b6c7-5d3f09c2351c",
        "colab": {
          "base_uri": "https://localhost:8080/",
          "height": 295
        }
      },
      "source": [
        "# Plot y_test\n",
        "# Esta gráfica es para ver sólo si los sets de entrenamiento y test cubren las mismas\n",
        "# áreas (¿tienen la misma distribución?). No se espera que los puntos coincidan ya que\n",
        "# son dos sets distintos.\n",
        "plt.scatter(y_train[:, 0], y_train[:, 1], c='r', s=2, label='y_train')\n",
        "plt.scatter(y_test[:, 0], y_test[:, 1], c='b', s=2, label='y_test')\n",
        "\n",
        "plt.legend()\n",
        "plt.grid(True)\n",
        "plt.xlabel('PM2.5')\n",
        "plt.ylabel('NO2')\n",
        "plt.title('Outputs')\n",
        "plt.show()"
      ],
      "execution_count": 14,
      "outputs": [
        {
          "output_type": "display_data",
          "data": {
            "image/png": "[encoded data removed]",
            "text/plain": [
              "<Figure size 432x288 with 1 Axes>"
            ]
          },
          "metadata": {
            "tags": []
          }
        }
      ]
    },
    {
      "cell_type": "markdown",
      "metadata": {
        "id": "dreChfyNYqsB",
        "colab_type": "text"
      },
      "source": [
        "# Part 3: Create DNN model and train it"
      ]
    },
    {
      "cell_type": "code",
      "metadata": {
        "id": "JO90QIV_HZyX",
        "colab_type": "code",
        "colab": {
          "base_uri": "https://localhost:8080/",
          "height": 65
        },
        "outputId": "58832bc5-df42-4cf2-dccc-d15891e44073"
      },
      "source": [
        "# tensorflow imports\n",
        "import tensorflow as tf\n",
        "from tensorflow.keras.models import Sequential\n",
        "from tensorflow.keras.layers import Input, Dense"
      ],
      "execution_count": 15,
      "outputs": [
        {
          "output_type": "display_data",
          "data": {
            "text/html": [
              "<p style=\"color: red;\">\n",
              "The default version of TensorFlow in Colab will soon switch to TensorFlow 2.x.<br>\n",
              "We recommend you <a href=\"https://www.tensorflow.org/guide/migrate\" target=\"_blank\">upgrade</a> now \n",
              "or ensure your notebook will continue to use TensorFlow 1.x via the <code>%tensorflow_version 1.x</code> magic:\n",
              "<a href=\"https://colab.research.google.com/notebooks/tensorflow_version.ipynb\" target=\"_blank\">more info</a>.</p>\n"
            ],
            "text/plain": [
              "<IPython.core.display.HTML object>"
            ]
          },
          "metadata": {
            "tags": []
          }
        }
      ]
    },
    {
      "cell_type": "code",
      "metadata": {
        "id": "ENX7lCg3Ido4",
        "colab_type": "code",
        "outputId": "930bb826-efe4-43c1-83c4-6b7709b3bcf3",
        "colab": {
          "base_uri": "https://localhost:8080/",
          "height": 384
        }
      },
      "source": [
        "# Create a Deep Network\n",
        "DNN = Sequential()\n",
        "DNN.add(Input(shape=X.shape[1:], name='INPUT'))\n",
        "\n",
        "DNN.add(Dense(units=32, activation='relu'))\n",
        "DNN.add(Dense(units=64, activation='relu'))\n",
        "DNN.add(Dense(units=128, activation='relu'))\n",
        "DNN.add(Dense(units=64, activation='relu'))\n",
        "DNN.add(Dense(units=32, activation='relu'))\n",
        "\n",
        "DNN.add(Dense(units=Y.shape[1], name='OUTPUT'))\n",
        "\n",
        "DNN.summary()"
      ],
      "execution_count": 23,
      "outputs": [
        {
          "output_type": "stream",
          "text": [
            "Model: \"sequential_1\"\n",
            "_________________________________________________________________\n",
            "Layer (type)                 Output Shape              Param #   \n",
            "=================================================================\n",
            "dense_7 (Dense)              (None, 32)                832       \n",
            "_________________________________________________________________\n",
            "dense_8 (Dense)              (None, 64)                2112      \n",
            "_________________________________________________________________\n",
            "dense_9 (Dense)              (None, 128)               8320      \n",
            "_________________________________________________________________\n",
            "dense_10 (Dense)             (None, 64)                8256      \n",
            "_________________________________________________________________\n",
            "dense_11 (Dense)             (None, 32)                2080      \n",
            "_________________________________________________________________\n",
            "OUTPUT (Dense)               (None, 2)                 66        \n",
            "=================================================================\n",
            "Total params: 21,666\n",
            "Trainable params: 21,666\n",
            "Non-trainable params: 0\n",
            "_________________________________________________________________\n"
          ],
          "name": "stdout"
        }
      ]
    },
    {
      "cell_type": "code",
      "metadata": {
        "id": "Y8TlQWPOVfxw",
        "colab_type": "code",
        "colab": {}
      },
      "source": [
        "# Define training parameters\n",
        "DNN.compile(optimizer='adam', loss='mse')"
      ],
      "execution_count": 0,
      "outputs": []
    },
    {
      "cell_type": "code",
      "metadata": {
        "id": "cXaSP7HIVhTK",
        "colab_type": "code",
        "outputId": "710579ec-e6a8-49dd-9453-dea5216b26f3",
        "colab": {
          "base_uri": "https://localhost:8080/",
          "height": 1000
        }
      },
      "source": [
        "# Train model\n",
        "history = DNN.fit(x=x_train, y=y_train, batch_size=64, epochs=200, verbose=1, validation_split=0.1, shuffle=True)"
      ],
      "execution_count": 25,
      "outputs": [
        {
          "output_type": "stream",
          "text": [
            "Train on 27201 samples, validate on 3023 samples\n",
            "Epoch 1/200\n",
            "27201/27201 [==============================] - 2s 56us/sample - loss: 0.6848 - val_loss: 0.6083\n",
            "Epoch 2/200\n",
            "27201/27201 [==============================] - 1s 50us/sample - loss: 0.5775 - val_loss: 0.5585\n",
            "Epoch 3/200\n",
            "27201/27201 [==============================] - 1s 43us/sample - loss: 0.5381 - val_loss: 0.5249\n",
            "Epoch 4/200\n",
            "27201/27201 [==============================] - 1s 44us/sample - loss: 0.5112 - val_loss: 0.5018\n",
            "Epoch 5/200\n",
            "27201/27201 [==============================] - 1s 48us/sample - loss: 0.4838 - val_loss: 0.4857\n",
            "Epoch 6/200\n",
            "27201/27201 [==============================] - 1s 45us/sample - loss: 0.4669 - val_loss: 0.4685\n",
            "Epoch 7/200\n",
            "27201/27201 [==============================] - 1s 48us/sample - loss: 0.4483 - val_loss: 0.4689\n",
            "Epoch 8/200\n",
            "27201/27201 [==============================] - 1s 46us/sample - loss: 0.4450 - val_loss: 0.4500\n",
            "Epoch 9/200\n",
            "27201/27201 [==============================] - 1s 44us/sample - loss: 0.4225 - val_loss: 0.4556\n",
            "Epoch 10/200\n",
            "27201/27201 [==============================] - 1s 47us/sample - loss: 0.4139 - val_loss: 0.4557\n",
            "Epoch 11/200\n",
            "27201/27201 [==============================] - 1s 46us/sample - loss: 0.4058 - val_loss: 0.4299\n",
            "Epoch 12/200\n",
            "27201/27201 [==============================] - 1s 44us/sample - loss: 0.3964 - val_loss: 0.4368\n",
            "Epoch 13/200\n",
            "27201/27201 [==============================] - 1s 49us/sample - loss: 0.3855 - val_loss: 0.4294\n",
            "Epoch 14/200\n",
            "27201/27201 [==============================] - 1s 45us/sample - loss: 0.3817 - val_loss: 0.4223\n",
            "Epoch 15/200\n",
            "27201/27201 [==============================] - 1s 49us/sample - loss: 0.3706 - val_loss: 0.4114\n",
            "Epoch 16/200\n",
            "27201/27201 [==============================] - 1s 42us/sample - loss: 0.3646 - val_loss: 0.4030\n",
            "Epoch 17/200\n",
            "27201/27201 [==============================] - 1s 43us/sample - loss: 0.3546 - val_loss: 0.3944\n",
            "Epoch 18/200\n",
            "27201/27201 [==============================] - 1s 49us/sample - loss: 0.3484 - val_loss: 0.4110\n",
            "Epoch 19/200\n",
            "27201/27201 [==============================] - 1s 43us/sample - loss: 0.3408 - val_loss: 0.3971\n",
            "Epoch 20/200\n",
            "27201/27201 [==============================] - 1s 44us/sample - loss: 0.3368 - val_loss: 0.4279\n",
            "Epoch 21/200\n",
            "27201/27201 [==============================] - 1s 47us/sample - loss: 0.3432 - val_loss: 0.4043\n",
            "Epoch 22/200\n",
            "27201/27201 [==============================] - 1s 44us/sample - loss: 0.3251 - val_loss: 0.4016\n",
            "Epoch 23/200\n",
            "27201/27201 [==============================] - 1s 46us/sample - loss: 0.3191 - val_loss: 0.4040\n",
            "Epoch 24/200\n",
            "27201/27201 [==============================] - 1s 47us/sample - loss: 0.3144 - val_loss: 0.4043\n",
            "Epoch 25/200\n",
            "27201/27201 [==============================] - 1s 46us/sample - loss: 0.3207 - val_loss: 0.3805\n",
            "Epoch 26/200\n",
            "27201/27201 [==============================] - 1s 48us/sample - loss: 0.3027 - val_loss: 0.3782\n",
            "Epoch 27/200\n",
            "27201/27201 [==============================] - 1s 44us/sample - loss: 0.2977 - val_loss: 0.3998\n",
            "Epoch 28/200\n",
            "27201/27201 [==============================] - 1s 44us/sample - loss: 0.2960 - val_loss: 0.4056\n",
            "Epoch 29/200\n",
            "27201/27201 [==============================] - 1s 48us/sample - loss: 0.3210 - val_loss: 0.3799\n",
            "Epoch 30/200\n",
            "27201/27201 [==============================] - 1s 44us/sample - loss: 0.2912 - val_loss: 0.3690\n",
            "Epoch 31/200\n",
            "27201/27201 [==============================] - 1s 45us/sample - loss: 0.2836 - val_loss: 0.3778\n",
            "Epoch 32/200\n",
            "27201/27201 [==============================] - 1s 49us/sample - loss: 0.2792 - val_loss: 0.3785\n",
            "Epoch 33/200\n",
            "27201/27201 [==============================] - 1s 46us/sample - loss: 0.2796 - val_loss: 0.3792\n",
            "Epoch 34/200\n",
            "27201/27201 [==============================] - 1s 48us/sample - loss: 0.2740 - val_loss: 0.3765\n",
            "Epoch 35/200\n",
            "27201/27201 [==============================] - 1s 48us/sample - loss: 0.2664 - val_loss: 0.3920\n",
            "Epoch 36/200\n",
            "27201/27201 [==============================] - 1s 46us/sample - loss: 0.2833 - val_loss: 0.3772\n",
            "Epoch 37/200\n",
            "27201/27201 [==============================] - 1s 50us/sample - loss: 0.2667 - val_loss: 0.3712\n",
            "Epoch 38/200\n",
            "27201/27201 [==============================] - 1s 46us/sample - loss: 0.2619 - val_loss: 0.3743\n",
            "Epoch 39/200\n",
            "27201/27201 [==============================] - 1s 46us/sample - loss: 0.2596 - val_loss: 0.3722\n",
            "Epoch 40/200\n",
            "27201/27201 [==============================] - 1s 48us/sample - loss: 0.2537 - val_loss: 0.3718\n",
            "Epoch 41/200\n",
            "27201/27201 [==============================] - 1s 48us/sample - loss: 0.2546 - val_loss: 0.3787\n",
            "Epoch 42/200\n",
            "27201/27201 [==============================] - 1s 51us/sample - loss: 0.2521 - val_loss: 0.3717\n",
            "Epoch 43/200\n",
            "27201/27201 [==============================] - 1s 48us/sample - loss: 0.2471 - val_loss: 0.3956\n",
            "Epoch 44/200\n",
            "27201/27201 [==============================] - 1s 44us/sample - loss: 0.2537 - val_loss: 0.3611\n",
            "Epoch 45/200\n",
            "27201/27201 [==============================] - 1s 49us/sample - loss: 0.2418 - val_loss: 0.3691\n",
            "Epoch 46/200\n",
            "27201/27201 [==============================] - 1s 50us/sample - loss: 0.2409 - val_loss: 0.3750\n",
            "Epoch 47/200\n",
            "27201/27201 [==============================] - 1s 46us/sample - loss: 0.2361 - val_loss: 0.3646\n",
            "Epoch 48/200\n",
            "27201/27201 [==============================] - 1s 51us/sample - loss: 0.2331 - val_loss: 0.3783\n",
            "Epoch 49/200\n",
            "27201/27201 [==============================] - 1s 51us/sample - loss: 0.2302 - val_loss: 0.3682\n",
            "Epoch 50/200\n",
            "27201/27201 [==============================] - 1s 50us/sample - loss: 0.2281 - val_loss: 0.3822\n",
            "Epoch 51/200\n",
            "27201/27201 [==============================] - 1s 46us/sample - loss: 0.2275 - val_loss: 0.3575\n",
            "Epoch 52/200\n",
            "27201/27201 [==============================] - 1s 49us/sample - loss: 0.2241 - val_loss: 0.3618\n",
            "Epoch 53/200\n",
            "27201/27201 [==============================] - 1s 49us/sample - loss: 0.2202 - val_loss: 0.3710\n",
            "Epoch 54/200\n",
            "27201/27201 [==============================] - 1s 47us/sample - loss: 0.2200 - val_loss: 0.3804\n",
            "Epoch 55/200\n",
            "27201/27201 [==============================] - 1s 48us/sample - loss: 0.2219 - val_loss: 0.3693\n",
            "Epoch 56/200\n",
            "27201/27201 [==============================] - 1s 47us/sample - loss: 0.2170 - val_loss: 0.3802\n",
            "Epoch 57/200\n",
            "27201/27201 [==============================] - 1s 49us/sample - loss: 0.2115 - val_loss: 0.3640\n",
            "Epoch 58/200\n",
            "27201/27201 [==============================] - 1s 52us/sample - loss: 0.2157 - val_loss: 0.3685\n",
            "Epoch 59/200\n",
            "27201/27201 [==============================] - 1s 47us/sample - loss: 0.2064 - val_loss: 0.3581\n",
            "Epoch 60/200\n",
            "27201/27201 [==============================] - 1s 50us/sample - loss: 0.2106 - val_loss: 0.3880\n",
            "Epoch 61/200\n",
            "27201/27201 [==============================] - 1s 46us/sample - loss: 0.2108 - val_loss: 0.3653\n",
            "Epoch 62/200\n",
            "27201/27201 [==============================] - 1s 51us/sample - loss: 0.2076 - val_loss: 0.3691\n",
            "Epoch 63/200\n",
            "27201/27201 [==============================] - 1s 47us/sample - loss: 0.2049 - val_loss: 0.3570\n",
            "Epoch 64/200\n",
            "27201/27201 [==============================] - 1s 50us/sample - loss: 0.2001 - val_loss: 0.3614\n",
            "Epoch 65/200\n",
            "27201/27201 [==============================] - 1s 51us/sample - loss: 0.2013 - val_loss: 0.3543\n",
            "Epoch 66/200\n",
            "27201/27201 [==============================] - 1s 50us/sample - loss: 0.1987 - val_loss: 0.3667\n",
            "Epoch 67/200\n",
            "27201/27201 [==============================] - 1s 49us/sample - loss: 0.1972 - val_loss: 0.3574\n",
            "Epoch 68/200\n",
            "27201/27201 [==============================] - 1s 51us/sample - loss: 0.1952 - val_loss: 0.3640\n",
            "Epoch 69/200\n",
            "27201/27201 [==============================] - 1s 45us/sample - loss: 0.1938 - val_loss: 0.3704\n",
            "Epoch 70/200\n",
            "27201/27201 [==============================] - 1s 49us/sample - loss: 0.1989 - val_loss: 0.3613\n",
            "Epoch 71/200\n",
            "27201/27201 [==============================] - 1s 50us/sample - loss: 0.1899 - val_loss: 0.3686\n",
            "Epoch 72/200\n",
            "27201/27201 [==============================] - 1s 51us/sample - loss: 0.1942 - val_loss: 0.3695\n",
            "Epoch 73/200\n",
            "27201/27201 [==============================] - 1s 49us/sample - loss: 0.2007 - val_loss: 0.3662\n",
            "Epoch 74/200\n",
            "27201/27201 [==============================] - 1s 47us/sample - loss: 0.1860 - val_loss: 0.3634\n",
            "Epoch 75/200\n",
            "27201/27201 [==============================] - 1s 48us/sample - loss: 0.1815 - val_loss: 0.3748\n",
            "Epoch 76/200\n",
            "27201/27201 [==============================] - 1s 47us/sample - loss: 0.1867 - val_loss: 0.3784\n",
            "Epoch 77/200\n",
            "27201/27201 [==============================] - 1s 52us/sample - loss: 0.1877 - val_loss: 0.3777\n",
            "Epoch 78/200\n",
            "27201/27201 [==============================] - 1s 45us/sample - loss: 0.1845 - val_loss: 0.3546\n",
            "Epoch 79/200\n",
            "27201/27201 [==============================] - 1s 45us/sample - loss: 0.1827 - val_loss: 0.3697\n",
            "Epoch 80/200\n",
            "27201/27201 [==============================] - 1s 46us/sample - loss: 0.1788 - val_loss: 0.3503\n",
            "Epoch 81/200\n",
            "27201/27201 [==============================] - 1s 46us/sample - loss: 0.1776 - val_loss: 0.3607\n",
            "Epoch 82/200\n",
            "27201/27201 [==============================] - 1s 47us/sample - loss: 0.1760 - val_loss: 0.3772\n",
            "Epoch 83/200\n",
            "27201/27201 [==============================] - 1s 48us/sample - loss: 0.1820 - val_loss: 0.3593\n",
            "Epoch 84/200\n",
            "27201/27201 [==============================] - 1s 47us/sample - loss: 0.1761 - val_loss: 0.3540\n",
            "Epoch 85/200\n",
            "27201/27201 [==============================] - 1s 49us/sample - loss: 0.1741 - val_loss: 0.3547\n",
            "Epoch 86/200\n",
            "27201/27201 [==============================] - 1s 49us/sample - loss: 0.1740 - val_loss: 0.3831\n",
            "Epoch 87/200\n",
            "27201/27201 [==============================] - 1s 50us/sample - loss: 0.1754 - val_loss: 0.3542\n",
            "Epoch 88/200\n",
            "27201/27201 [==============================] - 1s 52us/sample - loss: 0.1731 - val_loss: 0.3633\n",
            "Epoch 89/200\n",
            "27201/27201 [==============================] - 1s 52us/sample - loss: 0.1716 - val_loss: 0.3660\n",
            "Epoch 90/200\n",
            "27201/27201 [==============================] - 1s 48us/sample - loss: 0.1686 - val_loss: 0.3613\n",
            "Epoch 91/200\n",
            "27201/27201 [==============================] - 1s 47us/sample - loss: 0.1681 - val_loss: 0.3713\n",
            "Epoch 92/200\n",
            "27201/27201 [==============================] - 1s 52us/sample - loss: 0.1701 - val_loss: 0.3549\n",
            "Epoch 93/200\n",
            "27201/27201 [==============================] - 1s 51us/sample - loss: 0.1662 - val_loss: 0.3596\n",
            "Epoch 94/200\n",
            "27201/27201 [==============================] - 1s 50us/sample - loss: 0.1743 - val_loss: 0.3684\n",
            "Epoch 95/200\n",
            "27201/27201 [==============================] - 1s 52us/sample - loss: 0.1669 - val_loss: 0.3630\n",
            "Epoch 96/200\n",
            "27201/27201 [==============================] - 1s 47us/sample - loss: 0.1659 - val_loss: 0.3592\n",
            "Epoch 97/200\n",
            "27201/27201 [==============================] - 1s 50us/sample - loss: 0.1608 - val_loss: 0.3726\n",
            "Epoch 98/200\n",
            "27201/27201 [==============================] - 1s 51us/sample - loss: 0.1613 - val_loss: 0.3583\n",
            "Epoch 99/200\n",
            "27201/27201 [==============================] - 1s 49us/sample - loss: 0.1636 - val_loss: 0.3736\n",
            "Epoch 100/200\n",
            "27201/27201 [==============================] - 1s 49us/sample - loss: 0.1592 - val_loss: 0.3685\n",
            "Epoch 101/200\n",
            "27201/27201 [==============================] - 1s 43us/sample - loss: 0.1643 - val_loss: 0.3629\n",
            "Epoch 102/200\n",
            "27201/27201 [==============================] - 1s 45us/sample - loss: 0.1609 - val_loss: 0.3753\n",
            "Epoch 103/200\n",
            "27201/27201 [==============================] - 1s 45us/sample - loss: 0.1581 - val_loss: 0.3592\n",
            "Epoch 104/200\n",
            "27201/27201 [==============================] - 1s 47us/sample - loss: 0.1580 - val_loss: 0.3715\n",
            "Epoch 105/200\n",
            "27201/27201 [==============================] - 1s 50us/sample - loss: 0.1603 - val_loss: 0.3741\n",
            "Epoch 106/200\n",
            "27201/27201 [==============================] - 1s 45us/sample - loss: 0.1565 - val_loss: 0.3503\n",
            "Epoch 107/200\n",
            "27201/27201 [==============================] - 1s 45us/sample - loss: 0.1587 - val_loss: 0.3840\n",
            "Epoch 108/200\n",
            "27201/27201 [==============================] - 1s 45us/sample - loss: 0.1545 - val_loss: 0.3571\n",
            "Epoch 109/200\n",
            "27201/27201 [==============================] - 1s 47us/sample - loss: 0.1695 - val_loss: 0.3686\n",
            "Epoch 110/200\n",
            "27201/27201 [==============================] - 1s 50us/sample - loss: 0.1517 - val_loss: 0.3738\n",
            "Epoch 111/200\n",
            "27201/27201 [==============================] - 1s 46us/sample - loss: 0.1524 - val_loss: 0.3706\n",
            "Epoch 112/200\n",
            "27201/27201 [==============================] - 1s 42us/sample - loss: 0.1546 - val_loss: 0.3649\n",
            "Epoch 113/200\n",
            "27201/27201 [==============================] - 1s 46us/sample - loss: 0.1529 - val_loss: 0.3676\n",
            "Epoch 114/200\n",
            "27201/27201 [==============================] - 1s 45us/sample - loss: 0.1503 - val_loss: 0.3737\n",
            "Epoch 115/200\n",
            "27201/27201 [==============================] - 1s 47us/sample - loss: 0.1509 - val_loss: 0.3609\n",
            "Epoch 116/200\n",
            "27201/27201 [==============================] - 1s 46us/sample - loss: 0.1481 - val_loss: 0.3590\n",
            "Epoch 117/200\n",
            "27201/27201 [==============================] - 1s 47us/sample - loss: 0.1509 - val_loss: 0.3564\n",
            "Epoch 118/200\n",
            "27201/27201 [==============================] - 1s 44us/sample - loss: 0.1469 - val_loss: 0.3742\n",
            "Epoch 119/200\n",
            "27201/27201 [==============================] - 1s 44us/sample - loss: 0.1467 - val_loss: 0.3598\n",
            "Epoch 120/200\n",
            "27201/27201 [==============================] - 1s 47us/sample - loss: 0.1494 - val_loss: 0.3616\n",
            "Epoch 121/200\n",
            "27201/27201 [==============================] - 1s 46us/sample - loss: 0.1474 - val_loss: 0.3625\n",
            "Epoch 122/200\n",
            "27201/27201 [==============================] - 1s 49us/sample - loss: 0.1447 - val_loss: 0.3763\n",
            "Epoch 123/200\n",
            "27201/27201 [==============================] - 1s 45us/sample - loss: 0.1458 - val_loss: 0.3611\n",
            "Epoch 124/200\n",
            "27201/27201 [==============================] - 1s 48us/sample - loss: 0.1469 - val_loss: 0.3649\n",
            "Epoch 125/200\n",
            "27201/27201 [==============================] - 1s 53us/sample - loss: 0.1491 - val_loss: 0.3689\n",
            "Epoch 126/200\n",
            "27201/27201 [==============================] - 1s 48us/sample - loss: 0.1465 - val_loss: 0.3687\n",
            "Epoch 127/200\n",
            "27201/27201 [==============================] - 1s 50us/sample - loss: 0.1447 - val_loss: 0.3762\n",
            "Epoch 128/200\n",
            "27201/27201 [==============================] - 1s 50us/sample - loss: 0.1432 - val_loss: 0.3633\n",
            "Epoch 129/200\n",
            "27201/27201 [==============================] - 1s 42us/sample - loss: 0.1419 - val_loss: 0.3646\n",
            "Epoch 130/200\n",
            "27201/27201 [==============================] - 1s 44us/sample - loss: 0.1429 - val_loss: 0.3777\n",
            "Epoch 131/200\n",
            "27201/27201 [==============================] - 1s 43us/sample - loss: 0.1410 - val_loss: 0.3743\n",
            "Epoch 132/200\n",
            "27201/27201 [==============================] - 1s 49us/sample - loss: 0.1927 - val_loss: 0.3652\n",
            "Epoch 133/200\n",
            "27201/27201 [==============================] - 1s 49us/sample - loss: 0.1498 - val_loss: 0.3704\n",
            "Epoch 134/200\n",
            "27201/27201 [==============================] - 1s 51us/sample - loss: 0.1426 - val_loss: 0.3670\n",
            "Epoch 135/200\n",
            "27201/27201 [==============================] - 1s 45us/sample - loss: 0.1379 - val_loss: 0.3703\n",
            "Epoch 136/200\n",
            "27201/27201 [==============================] - 1s 45us/sample - loss: 0.1427 - val_loss: 0.3621\n",
            "Epoch 137/200\n",
            "27201/27201 [==============================] - 1s 43us/sample - loss: 0.1361 - val_loss: 0.3677\n",
            "Epoch 138/200\n",
            "27201/27201 [==============================] - 1s 45us/sample - loss: 0.1337 - val_loss: 0.3611\n",
            "Epoch 139/200\n",
            "27201/27201 [==============================] - 1s 48us/sample - loss: 0.1342 - val_loss: 0.3755\n",
            "Epoch 140/200\n",
            "27201/27201 [==============================] - 1s 48us/sample - loss: 0.1516 - val_loss: 0.3781\n",
            "Epoch 141/200\n",
            "27201/27201 [==============================] - 1s 51us/sample - loss: 0.1426 - val_loss: 0.3640\n",
            "Epoch 142/200\n",
            "27201/27201 [==============================] - 1s 45us/sample - loss: 0.1322 - val_loss: 0.3721\n",
            "Epoch 143/200\n",
            "27201/27201 [==============================] - 1s 49us/sample - loss: 0.1361 - val_loss: 0.3744\n",
            "Epoch 144/200\n",
            "27201/27201 [==============================] - 1s 49us/sample - loss: 0.1379 - val_loss: 0.3695\n",
            "Epoch 145/200\n",
            "27201/27201 [==============================] - 1s 49us/sample - loss: 0.1323 - val_loss: 0.3744\n",
            "Epoch 146/200\n",
            "27201/27201 [==============================] - 1s 45us/sample - loss: 0.1459 - val_loss: 0.3617\n",
            "Epoch 147/200\n",
            "27201/27201 [==============================] - 1s 49us/sample - loss: 0.1328 - val_loss: 0.3632\n",
            "Epoch 148/200\n",
            "27201/27201 [==============================] - 1s 45us/sample - loss: 0.1523 - val_loss: 0.3663\n",
            "Epoch 149/200\n",
            "27201/27201 [==============================] - 1s 45us/sample - loss: 0.1312 - val_loss: 0.3725\n",
            "Epoch 150/200\n",
            "27201/27201 [==============================] - 1s 46us/sample - loss: 0.1307 - val_loss: 0.3891\n",
            "Epoch 151/200\n",
            "27201/27201 [==============================] - 1s 50us/sample - loss: 0.1372 - val_loss: 0.3814\n",
            "Epoch 152/200\n",
            "27201/27201 [==============================] - 1s 49us/sample - loss: 0.1325 - val_loss: 0.3693\n",
            "Epoch 153/200\n",
            "27201/27201 [==============================] - 1s 44us/sample - loss: 0.1356 - val_loss: 0.3668\n",
            "Epoch 154/200\n",
            "27201/27201 [==============================] - 1s 43us/sample - loss: 0.1341 - val_loss: 0.3861\n",
            "Epoch 155/200\n",
            "27201/27201 [==============================] - 1s 47us/sample - loss: 0.1314 - val_loss: 0.3599\n",
            "Epoch 156/200\n",
            "27201/27201 [==============================] - 1s 49us/sample - loss: 0.1280 - val_loss: 0.3734\n",
            "Epoch 157/200\n",
            "27201/27201 [==============================] - 2s 55us/sample - loss: 0.1304 - val_loss: 0.3750\n",
            "Epoch 158/200\n",
            "27201/27201 [==============================] - 1s 52us/sample - loss: 0.1313 - val_loss: 0.3651\n",
            "Epoch 159/200\n",
            "27201/27201 [==============================] - 1s 51us/sample - loss: 0.1426 - val_loss: 0.3705\n",
            "Epoch 160/200\n",
            "27201/27201 [==============================] - 1s 49us/sample - loss: 0.1284 - val_loss: 0.3599\n",
            "Epoch 161/200\n",
            "27201/27201 [==============================] - 1s 52us/sample - loss: 0.1258 - val_loss: 0.3608\n",
            "Epoch 162/200\n",
            "27201/27201 [==============================] - 1s 52us/sample - loss: 0.1274 - val_loss: 0.3642\n",
            "Epoch 163/200\n",
            "27201/27201 [==============================] - 1s 53us/sample - loss: 0.1264 - val_loss: 0.3756\n",
            "Epoch 164/200\n",
            "27201/27201 [==============================] - 1s 53us/sample - loss: 0.1294 - val_loss: 0.3700\n",
            "Epoch 165/200\n",
            "27201/27201 [==============================] - 1s 54us/sample - loss: 0.1291 - val_loss: 0.3653\n",
            "Epoch 166/200\n",
            "27201/27201 [==============================] - 1s 49us/sample - loss: 0.1244 - val_loss: 0.3726\n",
            "Epoch 167/200\n",
            "27201/27201 [==============================] - 1s 51us/sample - loss: 0.1370 - val_loss: 0.3812\n",
            "Epoch 168/200\n",
            "27201/27201 [==============================] - 1s 50us/sample - loss: 0.1321 - val_loss: 0.3733\n",
            "Epoch 169/200\n",
            "27201/27201 [==============================] - 1s 50us/sample - loss: 0.1247 - val_loss: 0.3684\n",
            "Epoch 170/200\n",
            "27201/27201 [==============================] - 1s 49us/sample - loss: 0.1221 - val_loss: 0.3729\n",
            "Epoch 171/200\n",
            "27201/27201 [==============================] - 1s 50us/sample - loss: 0.1350 - val_loss: 0.3747\n",
            "Epoch 172/200\n",
            "27201/27201 [==============================] - 1s 49us/sample - loss: 0.1282 - val_loss: 0.3686\n",
            "Epoch 173/200\n",
            "27201/27201 [==============================] - 1s 47us/sample - loss: 0.1289 - val_loss: 0.3748\n",
            "Epoch 174/200\n",
            "27201/27201 [==============================] - 1s 49us/sample - loss: 0.1210 - val_loss: 0.3685\n",
            "Epoch 175/200\n",
            "27201/27201 [==============================] - 1s 51us/sample - loss: 0.1202 - val_loss: 0.3659\n",
            "Epoch 176/200\n",
            "27201/27201 [==============================] - 1s 49us/sample - loss: 0.1206 - val_loss: 0.3711\n",
            "Epoch 177/200\n",
            "27201/27201 [==============================] - 1s 52us/sample - loss: 0.1240 - val_loss: 0.3733\n",
            "Epoch 178/200\n",
            "27201/27201 [==============================] - 1s 48us/sample - loss: 0.1209 - val_loss: 0.3726\n",
            "Epoch 179/200\n",
            "27201/27201 [==============================] - 1s 53us/sample - loss: 0.1259 - val_loss: 0.3709\n",
            "Epoch 180/200\n",
            "27201/27201 [==============================] - 1s 46us/sample - loss: 0.1207 - val_loss: 0.3739\n",
            "Epoch 181/200\n",
            "27201/27201 [==============================] - 1s 43us/sample - loss: 0.1210 - val_loss: 0.3784\n",
            "Epoch 182/200\n",
            "27201/27201 [==============================] - 1s 47us/sample - loss: 0.1239 - val_loss: 0.3696\n",
            "Epoch 183/200\n",
            "27201/27201 [==============================] - 1s 47us/sample - loss: 0.1286 - val_loss: 0.3633\n",
            "Epoch 184/200\n",
            "27201/27201 [==============================] - 1s 48us/sample - loss: 0.1186 - val_loss: 0.3727\n",
            "Epoch 185/200\n",
            "27201/27201 [==============================] - 1s 49us/sample - loss: 0.1265 - val_loss: 0.3677\n",
            "Epoch 186/200\n",
            "27201/27201 [==============================] - 1s 52us/sample - loss: 0.1180 - val_loss: 0.3637\n",
            "Epoch 187/200\n",
            "27201/27201 [==============================] - 1s 50us/sample - loss: 0.1198 - val_loss: 0.3647\n",
            "Epoch 188/200\n",
            "27201/27201 [==============================] - 1s 46us/sample - loss: 0.1172 - val_loss: 0.3712\n",
            "Epoch 189/200\n",
            "27201/27201 [==============================] - 1s 49us/sample - loss: 0.1221 - val_loss: 0.3845\n",
            "Epoch 190/200\n",
            "27201/27201 [==============================] - 1s 48us/sample - loss: 0.1171 - val_loss: 0.3688\n",
            "Epoch 191/200\n",
            "27201/27201 [==============================] - 1s 49us/sample - loss: 0.1172 - val_loss: 0.3747\n",
            "Epoch 192/200\n",
            "27201/27201 [==============================] - 1s 48us/sample - loss: 0.1214 - val_loss: 0.3721\n",
            "Epoch 193/200\n",
            "27201/27201 [==============================] - 1s 47us/sample - loss: 0.1191 - val_loss: 0.3716\n",
            "Epoch 194/200\n",
            "27201/27201 [==============================] - 1s 49us/sample - loss: 0.1161 - val_loss: 0.3712\n",
            "Epoch 195/200\n",
            "27201/27201 [==============================] - 1s 50us/sample - loss: 0.1162 - val_loss: 0.3696\n",
            "Epoch 196/200\n",
            "27201/27201 [==============================] - 1s 48us/sample - loss: 0.1316 - val_loss: 0.3875\n",
            "Epoch 197/200\n",
            "27201/27201 [==============================] - 1s 49us/sample - loss: 0.1159 - val_loss: 0.3729\n",
            "Epoch 198/200\n",
            "27201/27201 [==============================] - 1s 47us/sample - loss: 0.1136 - val_loss: 0.3755\n",
            "Epoch 199/200\n",
            "27201/27201 [==============================] - 1s 48us/sample - loss: 0.1166 - val_loss: 0.3688\n",
            "Epoch 200/200\n",
            "27201/27201 [==============================] - 1s 49us/sample - loss: 0.1162 - val_loss: 0.3745\n"
          ],
          "name": "stdout"
        }
      ]
    },
    {
      "cell_type": "code",
      "metadata": {
        "id": "sun9_RyLYzMM",
        "colab_type": "code",
        "outputId": "10243ee5-24d1-4595-e87c-f6ad5dce6686",
        "colab": {
          "base_uri": "https://localhost:8080/",
          "height": 334
        }
      },
      "source": [
        "# Plot loss\n",
        "plt.figure(figsize=(12, 5))\n",
        "plt.plot(DNN.history.history['loss'], label='Training', linewidth=2)\n",
        "plt.plot(DNN.history.history['val_loss'], label='Validation', linewidth=2)\n",
        "plt.legend()\n",
        "plt.xlabel('Epoch')\n",
        "plt.ylabel('Loss')\n",
        "plt.grid(True)\n",
        "plt.show()"
      ],
      "execution_count": 26,
      "outputs": [
        {
          "output_type": "display_data",
          "data": {
            "image/png": "[encoded data removed]",
            "text/plain": [
              "<Figure size 864x360 with 1 Axes>"
            ]
          },
          "metadata": {
            "tags": []
          }
        }
      ]
    },
    {
      "cell_type": "code",
      "metadata": {
        "id": "IJVCymAmcIB_",
        "colab_type": "code",
        "colab": {
          "base_uri": "https://localhost:8080/",
          "height": 35
        },
        "outputId": "2b8d1f8d-8edd-4b07-f79c-21fdd83418c8"
      },
      "source": [
        "# Generalization metric\n",
        "min_loss = np.min([DNN.history.history['loss'][-1], DNN.history.history['val_loss'][-1]])\n",
        "max_loss = np.max([DNN.history.history['loss'][-1], DNN.history.history['val_loss'][-1]])\n",
        "general_loss = (max_loss - min_loss) / max_loss\n",
        "print(f\"Generalization loss: {general_loss:6.4f}%\")"
      ],
      "execution_count": 39,
      "outputs": [
        {
          "output_type": "stream",
          "text": [
            "Generalization loss: 0.6898%\n"
          ],
          "name": "stdout"
        }
      ]
    },
    {
      "cell_type": "code",
      "metadata": {
        "id": "jqWaiy_fb0-x",
        "colab_type": "code",
        "outputId": "5cb2070c-e07b-40d7-c5dc-b3e6bbb4e340",
        "colab": {
          "base_uri": "https://localhost:8080/",
          "height": 35
        }
      },
      "source": [
        "# Compute test loss\n",
        "loss_test = DNN.evaluate(x=x_test, y=y_test, verbose=False)\n",
        "print(\"Test loss:\", loss_test)"
      ],
      "execution_count": 27,
      "outputs": [
        {
          "output_type": "stream",
          "text": [
            "Test loss: 0.38468589003845854\n"
          ],
          "name": "stdout"
        }
      ]
    },
    {
      "cell_type": "code",
      "metadata": {
        "id": "lQxF7hMCb8Cp",
        "colab_type": "code",
        "outputId": "b24778c0-9ad3-47c4-bfaf-94564fa81db5",
        "colab": {
          "base_uri": "https://localhost:8080/",
          "height": 35
        }
      },
      "source": [
        "# Predict on test set\n",
        "y_test_hat = DNN.predict(x=x_test)\n",
        "print(y_test_hat.shape)"
      ],
      "execution_count": 28,
      "outputs": [
        {
          "output_type": "stream",
          "text": [
            "(1591, 2)\n"
          ],
          "name": "stdout"
        }
      ]
    },
    {
      "cell_type": "code",
      "metadata": {
        "id": "tfAf4cIqcGyQ",
        "colab_type": "code",
        "outputId": "ca6ce1ab-8857-4648-bea4-36fed1fc1eef",
        "colab": {
          "base_uri": "https://localhost:8080/",
          "height": 295
        }
      },
      "source": [
        "# Plot y_test_hat\n",
        "indx = np.random.permutation(len(y_test))[:500]\n",
        "plt.scatter(y_test[indx, 0], y_test[indx, 1], c='b', label='y')\n",
        "plt.scatter(y_test_hat[indx, 0], y_test_hat[indx, 1], c='r', marker='+', label='y_h')\n",
        "\n",
        "plt.legend()\n",
        "plt.grid(True)\n",
        "plt.xlabel('PM2.5')\n",
        "plt.ylabel('NO2')\n",
        "plt.title('Test set and its predictions')\n",
        "plt.show()"
      ],
      "execution_count": 29,
      "outputs": [
        {
          "output_type": "display_data",
          "data": {
            "image/png": "[encoded data removed]",
            "text/plain": [
              "<Figure size 432x288 with 1 Axes>"
            ]
          },
          "metadata": {
            "tags": []
          }
        }
      ]
    },
    {
      "cell_type": "code",
      "metadata": {
        "id": "euURHYHPQ9B3",
        "colab_type": "code",
        "colab": {}
      },
      "source": [
        ""
      ],
      "execution_count": 0,
      "outputs": []
    }
  ]
}